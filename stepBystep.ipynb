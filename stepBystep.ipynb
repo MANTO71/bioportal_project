{
 "cells": [
  {
   "cell_type": "markdown",
   "metadata": {},
   "source": [
    "### Notebook content\n",
    "\n",
    "Step by step\n",
    "- load data\n",
    "- extract text\n",
    "- store data ( paper id and text document) in data_dictionary\n",
    "\n",
    "Sintesis of the above things(final code v1)\n",
    "- load data\n",
    "- extract and store data\n",
    "- assert results"
   ]
  },
  {
   "cell_type": "code",
   "execution_count": 1,
   "metadata": {},
   "outputs": [],
   "source": [
    "import json\n",
    "import os"
   ]
  },
  {
   "cell_type": "markdown",
   "metadata": {},
   "source": [
    "###  Step by step"
   ]
  },
  {
   "cell_type": "markdown",
   "metadata": {},
   "source": [
    "#### Load data.\n",
    "For this build path for every file in directory. paths store in a list. from the list of paths each file is read.\n"
   ]
  },
  {
   "cell_type": "code",
   "execution_count": 2,
   "metadata": {},
   "outputs": [],
   "source": [
    "pdf_json = []\n",
    "for root, dirs, files in os.walk('kaggle/document_parses/pdf_json/'): #Case:files under  ../../pdf_json directory\n",
    "    for file in files:\n",
    "        pdf_json.append(os.path.join(root, file)) #build a path for each file"
   ]
  },
  {
   "cell_type": "code",
   "execution_count": 3,
   "metadata": {
    "scrolled": true
   },
   "outputs": [
    {
     "data": {
      "text/plain": [
       "['kaggle/document_parses/pdf_json/5f48792a5fa08bed9f56016f4981ae2ca6031b32.json',\n",
       " 'kaggle/document_parses/pdf_json/93c6eef32a1a511ee989a259eab0e12174dc6859.json',\n",
       " 'kaggle/document_parses/pdf_json/184aded923f0ac3cbdbcf74d2a5b42cda0f414c2.json',\n",
       " 'kaggle/document_parses/pdf_json/6e8517cb25ff228cb48da90a9c97d9c274dc8031.json',\n",
       " 'kaggle/document_parses/pdf_json/025339bfce1cb8efa81c5accdabefe04dcdac9d2.json',\n",
       " 'kaggle/document_parses/pdf_json/a78fd1b34372e1e54bf2a192d04aa36670cea307.json',\n",
       " 'kaggle/document_parses/pdf_json/348055649b6b8cf2b9a376498df9bf41f7123605.json',\n",
       " 'kaggle/document_parses/pdf_json/f1d1b9694aa43c837d9b758cb2d45d8a24d293e3.json',\n",
       " 'kaggle/document_parses/pdf_json/d450fc8885843d48772df9a898552302f8c80b98.json',\n",
       " 'kaggle/document_parses/pdf_json/3bb07ea10432f7738413dff9816809cc90f03f99.json',\n",
       " 'kaggle/document_parses/pdf_json/44102e3e69e70ad2a73e753133283334ce1f8736.json',\n",
       " 'kaggle/document_parses/pdf_json/06ced00a5fc04215949aa72528f2eeaae1d58927.json',\n",
       " 'kaggle/document_parses/pdf_json/c6202f96bd4b2aea699d5fbe867f311498dca3aa.json',\n",
       " 'kaggle/document_parses/pdf_json/6a8ac55ea2a1fbd99deb683e24dd986e55e707b3.json',\n",
       " 'kaggle/document_parses/pdf_json/ada57a9f084a016deb20b6f83c442072e6e37955.json',\n",
       " 'kaggle/document_parses/pdf_json/95aec306660c1b7519e9f019d92cc3a8206481e4.json',\n",
       " 'kaggle/document_parses/pdf_json/faaf1022ccfe93b032c5608097a53543ba24aedb.json',\n",
       " 'kaggle/document_parses/pdf_json/6b0567729c2143a66d737eb0a2f63f2dce2e5a7d.json',\n",
       " 'kaggle/document_parses/pdf_json/5b44feca5d6ffaaeb66501fa84cc6dd44d06660a.json',\n",
       " 'kaggle/document_parses/pdf_json/a77badb297bf4927419481e660ea8f1806ed91b1.json',\n",
       " 'kaggle/document_parses/pdf_json/d77233dd9085c9c76787c84ee9a1e249424b283a.json',\n",
       " 'kaggle/document_parses/pdf_json/b022e6ee1e7b9a0a822b1255c2fa12f81ddc52fd.json',\n",
       " 'kaggle/document_parses/pdf_json/14e0cac6e86d62859e6c9f1351ab67466d89e5b3.json',\n",
       " 'kaggle/document_parses/pdf_json/867e1b0f6ca8757f2a32a625d99b23888ab40d49.json',\n",
       " 'kaggle/document_parses/pdf_json/d09b79026117ec9faebba46a8d13aa9b23ec751e.json',\n",
       " 'kaggle/document_parses/pdf_json/5806726a24dc91de3954001effbdffd7a82d54e2.json',\n",
       " 'kaggle/document_parses/pdf_json/6eeaffdb22b4e310867262d1891a1442769c7803.json',\n",
       " 'kaggle/document_parses/pdf_json/c6bf372c094f035a514975c35a7f9c094abbe493.json',\n",
       " 'kaggle/document_parses/pdf_json/d706e82e2ebc8571e70654d1acf0ffd3969ab2d3.json',\n",
       " 'kaggle/document_parses/pdf_json/ae19236936b05793ceac08ed5d58269c25486320.json',\n",
       " 'kaggle/document_parses/pdf_json/9d4e3e8eb092d5ed282d0aa4aadcaa8b7165b5e9.json',\n",
       " 'kaggle/document_parses/pdf_json/83b05e8afa6cbe7a68170ee155f7eca37c91d51f.json',\n",
       " 'kaggle/document_parses/pdf_json/a1b6c2b3b808e995697f94d9676d5d5c85180177.json',\n",
       " 'kaggle/document_parses/pdf_json/30a4842a2e257f725cc041e32fd682c495111a50.json',\n",
       " 'kaggle/document_parses/pdf_json/8d7400a2b387820cd391d7df8194642e50402a0c.json',\n",
       " 'kaggle/document_parses/pdf_json/03203ab50eb64271a9e825f94a1b1a6c46ea14b3.json',\n",
       " 'kaggle/document_parses/pdf_json/c8213638a9602d46f2f7ff6ba62b0df69beb0001.json',\n",
       " 'kaggle/document_parses/pdf_json/b2897e1277f56641193a6db73825f707eed3e4c9.json',\n",
       " 'kaggle/document_parses/pdf_json/7d624acf891472c3452b1deb89e0dc44a40d0c94.json',\n",
       " 'kaggle/document_parses/pdf_json/40e41f0c52b39669dee24e37875d7a9fabc38636.json',\n",
       " 'kaggle/document_parses/pdf_json/4df2c6eecb985fcb20da3c5ed46e3b910c7077ab.json',\n",
       " 'kaggle/document_parses/pdf_json/ccc36b04ad5c71de61967624f7f739e868d7c0a5.json',\n",
       " 'kaggle/document_parses/pdf_json/367af6bb9a8bbda02206506a819656bb6f14ce4c.json',\n",
       " 'kaggle/document_parses/pdf_json/dff6195f5e24ebfa2fb4060142611b48021f673c.json',\n",
       " 'kaggle/document_parses/pdf_json/4ba79e54ecf81b30b56461a6aec2094eaf7b7f06.json',\n",
       " 'kaggle/document_parses/pdf_json/d1aafb70c066a2068b02786f8929fd9c900897fb.json',\n",
       " 'kaggle/document_parses/pdf_json/1cafb8587a42557c4f96ed28b2dc5717ff54d20d.json',\n",
       " 'kaggle/document_parses/pdf_json/0a1533470817bc5ef0d0d0af56386a96b505dc0d.json',\n",
       " 'kaggle/document_parses/pdf_json/f1bbb1b2e330c440acd6ff3d8a0f0d2e5adedd70.json']"
      ]
     },
     "execution_count": 3,
     "metadata": {},
     "output_type": "execute_result"
    }
   ],
   "source": [
    "pdf_json # list of paths "
   ]
  },
  {
   "cell_type": "markdown",
   "metadata": {},
   "source": [
    "#### Extract data firts record:  "
   ]
  },
  {
   "cell_type": "code",
   "execution_count": 4,
   "metadata": {},
   "outputs": [],
   "source": [
    "with open(pdf_json[0]) as json_data:\n",
    "    data = json.load(json_data)"
   ]
  },
  {
   "cell_type": "code",
   "execution_count": 5,
   "metadata": {},
   "outputs": [
    {
     "data": {
      "text/plain": [
       "dict_keys(['paper_id', 'metadata', 'abstract', 'body_text', 'bib_entries', 'ref_entries', 'back_matter'])"
      ]
     },
     "execution_count": 5,
     "metadata": {},
     "output_type": "execute_result"
    }
   ],
   "source": [
    "data.keys() # metadata record"
   ]
  },
  {
   "cell_type": "markdown",
   "metadata": {},
   "source": [
    "#### data['metadata']['title']"
   ]
  },
  {
   "cell_type": "code",
   "execution_count": 6,
   "metadata": {},
   "outputs": [
    {
     "data": {
      "text/plain": [
       "''"
      ]
     },
     "execution_count": 6,
     "metadata": {},
     "output_type": "execute_result"
    }
   ],
   "source": [
    "data['metadata']['title'] # title record. firt record not have a title"
   ]
  },
  {
   "cell_type": "markdown",
   "metadata": {},
   "source": [
    "#### data['abstract']"
   ]
  },
  {
   "cell_type": "code",
   "execution_count": 7,
   "metadata": {},
   "outputs": [
    {
     "data": {
      "text/plain": [
       "[{'text': 'commentary review reports primary research CCR = chemokine receptor; ICAM = intercellular adhesion molecule; MIP = macrophage inflammatory protein; NF-κB = nuclear factor-κB; PCR = polymerase chain reaction; pfu = plaque-forming units; PVM = pneumonia virus of mice; RANTES = regulated upon activation, normal T-cell expressed and secreted; RSV = respiratory syncytial virus; TNF = tumor necrosis factor.',\n",
       "  'cite_spans': [],\n",
       "  'ref_spans': [],\n",
       "  'section': 'Abstract'},\n",
       " {'text': 'Respiratory syncytial virus (RSV) and pneumonia virus of mice (PVM) are viruses of the family Paramyxoviridae, subfamily pneumovirus, which cause clinically important respiratory infections in humans and rodents, respectively. The respiratory epithelial target cells respond to viral infection with specific alterations in gene expression, including production of chemoattractant cytokines, adhesion molecules, elements that are related to the apoptosis response, and others that remain incompletely understood. Here we review our current understanding of these mucosal responses and discuss several genomic approaches, including differential display reverse transcription-polymerase chain reaction (PCR) and gene array strategies, that will permit us to unravel the nature of these responses in a more complete and systematic manner.',\n",
       "  'cite_spans': [],\n",
       "  'ref_spans': [],\n",
       "  'section': 'Abstract'}]"
      ]
     },
     "execution_count": 7,
     "metadata": {},
     "output_type": "execute_result"
    }
   ],
   "source": [
    "data['abstract'] #neested data structure: list thar have inside dictionaries. each dictionary is a paragraph."
   ]
  },
  {
   "cell_type": "code",
   "execution_count": 8,
   "metadata": {},
   "outputs": [],
   "source": [
    "content_abstract = ''  # type str variable for store content abstract\n",
    "for i in range(len(data['abstract'])):\n",
    "    content_abstract += data['abstract'][i]['text']"
   ]
  },
  {
   "cell_type": "code",
   "execution_count": 9,
   "metadata": {},
   "outputs": [
    {
     "data": {
      "text/plain": [
       "'commentary review reports primary research CCR = chemokine receptor; ICAM = intercellular adhesion molecule; MIP = macrophage inflammatory protein; NF-κB = nuclear factor-κB; PCR = polymerase chain reaction; pfu = plaque-forming units; PVM = pneumonia virus of mice; RANTES = regulated upon activation, normal T-cell expressed and secreted; RSV = respiratory syncytial virus; TNF = tumor necrosis factor.Respiratory syncytial virus (RSV) and pneumonia virus of mice (PVM) are viruses of the family Paramyxoviridae, subfamily pneumovirus, which cause clinically important respiratory infections in humans and rodents, respectively. The respiratory epithelial target cells respond to viral infection with specific alterations in gene expression, including production of chemoattractant cytokines, adhesion molecules, elements that are related to the apoptosis response, and others that remain incompletely understood. Here we review our current understanding of these mucosal responses and discuss several genomic approaches, including differential display reverse transcription-polymerase chain reaction (PCR) and gene array strategies, that will permit us to unravel the nature of these responses in a more complete and systematic manner.'"
      ]
     },
     "execution_count": 9,
     "metadata": {},
     "output_type": "execute_result"
    }
   ],
   "source": [
    "content_abstract"
   ]
  },
  {
   "cell_type": "markdown",
   "metadata": {},
   "source": [
    "#### data['body_text']"
   ]
  },
  {
   "cell_type": "code",
   "execution_count": 10,
   "metadata": {},
   "outputs": [
    {
     "data": {
      "text/plain": [
       "[{'text': 'RSV and PVM are viruses of the family Paramyxoviridae, subfamily pneumovirus; they are enveloped, singlestranded, nonsegmented RNA viruses that can cause intense viral bronchiolitis in humans and mice, respectively. In its most severe form, the lower respiratory tract infection caused by pneumoviruses is associated with the development of peribronchiolar infiltrates that are accompanied by submucosal edema and bronchorrhea, and ultimately leads to bronchiolar obstruction and compromised oxygen transfer. As the infection is confined to the respiratory epithelium, the responses of these cells are clearly of primary importance in determining the nature and extent of the resulting inflammatory process.',\n",
       "  'cite_spans': [],\n",
       "  'ref_spans': [],\n",
       "  'section': 'Introduction'},\n",
       " {'text': 'Most of our understanding of responses to pneumovirus infection has emerged from studies of RSV infection of human epithelial target cells in vitro; a list of genes and/or gene products produced by epithelial cells in response to RSV infection in vitro is provided in Table 1 . At the cellular level, epithelial cells initially respond to RSV infection by reducing their ciliary beat frequency. Production and release of chemoattractant cytokines (chemokines) can be observed as early as 12 h after infection, leading to the recruitment of specific leukocyte subsets to the lung tissue. RSV-infected epithelial cells become resistant to tumor necrosis factor (TNF)-α-induced apoptosis, but later fuse to form giant-cell syncytia and die by cellular necrosis. We review the molecular bases (to the extent that they',\n",
       "  'cite_spans': [],\n",
       "  'ref_spans': [{'start': 268,\n",
       "    'end': 275,\n",
       "    'text': 'Table 1',\n",
       "    'ref_id': 'TABREF0'}],\n",
       "  'section': 'Introduction'},\n",
       " {'text': 'are understood) of these specific responses, and discuss several novel strategies that may permit us to study the responses to RSV and PVM infection in a more coherent and systematic manner.',\n",
       "  'cite_spans': [],\n",
       "  'ref_spans': [],\n",
       "  'section': 'Gene expression in epithelial cells in response to pneumovirus infection'},\n",
       " {'text': 'Tristram et al [1] observed that explanted respiratory epithelial cells slow their ciliary beat frequency almost immediately after exposure to RSV, with complete ciliostasis seen as early as 6 h after the initial infection. The molecular basis of ciliostasis remains completely unknown.',\n",
       "  'cite_spans': [{'start': 15, 'end': 18, 'text': '[1]', 'ref_id': 'BIBREF0'}],\n",
       "  'ref_spans': [],\n",
       "  'section': 'Ciliostasis'},\n",
       " {'text': 'The chemokines and cytokines with production and release that has been associated with RSV infection of human epithelial cells are listed in Table 1 . Much of this work was also recently reviewed elsewhere [2, 3] . We focus here on the three chemokines whose molecular mechanisms and physiologic implications are best understood.',\n",
       "  'cite_spans': [{'start': 206,\n",
       "    'end': 209,\n",
       "    'text': '[2,',\n",
       "    'ref_id': 'BIBREF1'},\n",
       "   {'start': 210, 'end': 212, 'text': '3]', 'ref_id': 'BIBREF2'}],\n",
       "  'ref_spans': [{'start': 141,\n",
       "    'end': 148,\n",
       "    'text': 'Table 1',\n",
       "    'ref_id': 'TABREF0'}],\n",
       "  'section': 'Production and release of chemokines'},\n",
       " {'text': 'The earliest reports on this subject described production of the neutrophil chemoattractant IL-8 from tissue culture supernatants from RSV-infected cells [4] [5] [6] and in nasal secretions from patients with viral rhinitis [7] . IL-8 has since been detected in lower airway secretions from patients with severe RSV bronchiolitis [8] , and the neutrophil influx observed in response to this infection is probably due, at least in part, to the activity of this chemokine.',\n",
       "  'cite_spans': [{'start': 154,\n",
       "    'end': 157,\n",
       "    'text': '[4]',\n",
       "    'ref_id': 'BIBREF3'},\n",
       "   {'start': 158, 'end': 161, 'text': '[5]', 'ref_id': 'BIBREF4'},\n",
       "   {'start': 162, 'end': 165, 'text': '[6]', 'ref_id': 'BIBREF5'},\n",
       "   {'start': 224, 'end': 227, 'text': '[7]', 'ref_id': 'BIBREF6'},\n",
       "   {'start': 330, 'end': 333, 'text': '[8]', 'ref_id': 'BIBREF7'}],\n",
       "  'ref_spans': [],\n",
       "  'section': 'Interleukin-8'},\n",
       " {'text': 'At the cellular level IL-8 production can be observed in response to inactivated RSV virions, whereas IL-8 production in response to active infection was inhibited by ribavarin, amiloride, and antioxidants [9, 10] . Several groups have demonstrated activation of the transcription factor nuclear factor-κB (NF-κB) in response to RSV infection, and NF-κB is recognized for its central role in eliciting the production of IL-8 [9, 11, 12] . The transcription factor NF-IL-6 is also produced in response to RSV infection [13] , and participates in a co-operative manner with NF-κB in the regulation of IL-8 gene expression [11] , although later studies suggest that activator protein-1 may function preferentially in this role [14] . Interestingly, the NF-κB regulator IκBα, which functions by inhibiting NF-κB activation in response to TNF-α, was produced with different kinetics and does not promote a reversal of NF-κB activation in response to RSV infection as it does in response to TNF-α [15] . Most recently, Casola et al [16] demonstrated that the IL-8 promoter contains independent response elements, with nucleotides -162 to -132 representing a unique RSV response element that is distinct from elements necessary for IL-8 production in response to TNF-α. This concept of a stimulus-specific response will probably make an important contribution toward our understanding of how pneumoviruses promote transcription of unique and specific sets of independent gene products.',\n",
       "  'cite_spans': [{'start': 206,\n",
       "    'end': 209,\n",
       "    'text': '[9,',\n",
       "    'ref_id': 'BIBREF8'},\n",
       "   {'start': 210, 'end': 213, 'text': '10]', 'ref_id': 'BIBREF9'},\n",
       "   {'start': 425, 'end': 428, 'text': '[9,', 'ref_id': 'BIBREF8'},\n",
       "   {'start': 429, 'end': 432, 'text': '11,', 'ref_id': 'BIBREF10'},\n",
       "   {'start': 433, 'end': 436, 'text': '12]', 'ref_id': 'BIBREF11'},\n",
       "   {'start': 518, 'end': 522, 'text': '[13]', 'ref_id': 'BIBREF12'},\n",
       "   {'start': 620, 'end': 624, 'text': '[11]', 'ref_id': 'BIBREF10'},\n",
       "   {'start': 724, 'end': 728, 'text': '[14]', 'ref_id': 'BIBREF13'},\n",
       "   {'start': 991, 'end': 995, 'text': '[15]', 'ref_id': 'BIBREF14'},\n",
       "   {'start': 1026, 'end': 1030, 'text': '[16]', 'ref_id': 'BIBREF15'}],\n",
       "  'ref_spans': [],\n",
       "  'section': 'Interleukin-8'},\n",
       " {'text': 'The pleiotropic chemokine regulated upon activation, normal T-cell expressed and secreted (RANTES) has also been detected in supernatants from RSV-infected epithelial cells in culture [17, 18] , as well as in upper and lower airway secretions from patients infected with this virus [7, 8] . RANTES acts as a chemoattractant for eosinophils and monocytes in vitro, although its role in vivo is somewhat less clear. Similar to IL-8, RANTES can be produced in vitro in response to inactivated virions [8] , and involves NF-κB activation, binding, and nuclear translocation [19] . However, Koga et al [20] demonstrated that stabilization of RANTES mRNA, a response to RSV infection mediated in part by nucleotides 11-389 of the RANTES gene, is probably the primary mechanism underlying increased production and secretion of RANTES protein. Further studies will determine whether a similar mechanism is also in place for IL-8 and other RSV-mediated responses. ',\n",
       "  'cite_spans': [{'start': 184, 'end': 188, 'text': '[17,', 'ref_id': None},\n",
       "   {'start': 189, 'end': 192, 'text': '18]', 'ref_id': None},\n",
       "   {'start': 282, 'end': 285, 'text': '[7,', 'ref_id': 'BIBREF6'},\n",
       "   {'start': 286, 'end': 288, 'text': '8]', 'ref_id': 'BIBREF7'},\n",
       "   {'start': 498, 'end': 501, 'text': '[8]', 'ref_id': 'BIBREF7'},\n",
       "   {'start': 570, 'end': 574, 'text': '[19]', 'ref_id': None},\n",
       "   {'start': 597, 'end': 601, 'text': '[20]', 'ref_id': 'BIBREF17'}],\n",
       "  'ref_spans': [],\n",
       "  'section': 'Regulated upon activation, normal T-cell expressed and secreted'},\n",
       " {'text': 'Several groups have recently shown that macrophage inflammatory protein (MIP)-1α is released from RSVinfected cells in culture [7, 21] ; MIP-1α was also detected in upper and lower airway secretions from RSV-infected patients [7, 8] . Interestingly, of the three aforementioned chemokines, MIP-1α is the one that is most closely correlated with the presence of eosinophil degranulation products; this, together with data from our PVM model of pneumovirus infection [22] , has suggested to us that MIP-1α plays a pivotal role in eosinophil recruitment in response to primary pneumovirus infection. Interestingly, production of MIP-1α in cell culture requires active viral replication [8] , which suggests that this response may proceed by a mechanism that is completely distinct from that which elicits production of RANTES and IL-8. However, no reports to date have addressed the molecular mechanism that underlies the RSV-mediated MIP-1α response.',\n",
       "  'cite_spans': [{'start': 127,\n",
       "    'end': 130,\n",
       "    'text': '[7,',\n",
       "    'ref_id': 'BIBREF6'},\n",
       "   {'start': 131, 'end': 134, 'text': '21]', 'ref_id': 'BIBREF18'},\n",
       "   {'start': 226, 'end': 229, 'text': '[7,', 'ref_id': 'BIBREF6'},\n",
       "   {'start': 230, 'end': 232, 'text': '8]', 'ref_id': 'BIBREF7'},\n",
       "   {'start': 465, 'end': 469, 'text': '[22]', 'ref_id': 'BIBREF19'},\n",
       "   {'start': 683, 'end': 686, 'text': '[8]', 'ref_id': 'BIBREF7'}],\n",
       "  'ref_spans': [],\n",
       "  'section': 'Macrophage inflammatory protein-1α α'},\n",
       " {'text': 'A list of cell-surface molecules that have been reported as expressed in response to RSV infection is shown in Table 1 . We focus here on the expression of intercellular adhesion molecule (ICAM)-1 (CD54) and the leukocyte integrin CD18.',\n",
       "  'cite_spans': [],\n",
       "  'ref_spans': [{'start': 111,\n",
       "    'end': 118,\n",
       "    'text': 'Table 1',\n",
       "    'ref_id': 'TABREF0'}],\n",
       "  'section': 'Cell-surface adhesion molecules'},\n",
       " {'text': 'Increased expression of this cell-surface adhesion protein was observed in both respiratory epithelial cell lines [23, 24] and in human nasal epithelial cells [25] in response to infection with RSV in vitro. Chini et al [26] demonstrated that the expression of ICAM-1 mRNA, similar to IL-8 and RANTES, was dependent on an intact NF-κB site in the gene promoter, and demonstrated a role for the consensus binding site for the factor CCAAT/ enhancer-binding protein. Stark et al [27] demonstrated that ICAM-1 and CD18 expressed in response to RSV serve to enhance neutrophil and eosinophil binding to epithelial cells.',\n",
       "  'cite_spans': [{'start': 114,\n",
       "    'end': 118,\n",
       "    'text': '[23,',\n",
       "    'ref_id': 'BIBREF20'},\n",
       "   {'start': 119, 'end': 122, 'text': '24]', 'ref_id': 'BIBREF21'},\n",
       "   {'start': 159, 'end': 163, 'text': '[25]', 'ref_id': 'BIBREF22'},\n",
       "   {'start': 220, 'end': 224, 'text': '[26]', 'ref_id': 'BIBREF23'},\n",
       "   {'start': 477, 'end': 481, 'text': '[27]', 'ref_id': 'BIBREF24'}],\n",
       "  'ref_spans': [],\n",
       "  'section': 'Intercellular adhesion molecule-1'},\n",
       " {'text': 'CD18 is a polypeptide of the integrin family that functions in mediating cell-cell interactions. Several groups have observed expression of CD18 on epithelial cells in response to RSV infection [27, 28] , with CD18 shown to enhance the degranulation of eosinophils in this specific setting [28] . Of particular interest are the recent findings relating expression of CD18 (along with CD14) to earlier literature on bacterial superinfections in the setting of viral infections. Earlier studies [29, 30] reported enhanced binding of bacteria to respiratory epithelial cells that were infected with RSV, findings that had clinical implications relating to acute bacterial otitis media in infants.',\n",
       "  'cite_spans': [{'start': 194,\n",
       "    'end': 198,\n",
       "    'text': '[27,',\n",
       "    'ref_id': 'BIBREF24'},\n",
       "   {'start': 199, 'end': 202, 'text': '28]', 'ref_id': 'BIBREF25'},\n",
       "   {'start': 290, 'end': 294, 'text': '[28]', 'ref_id': 'BIBREF25'},\n",
       "   {'start': 493, 'end': 497, 'text': '[29,', 'ref_id': 'BIBREF26'},\n",
       "   {'start': 498, 'end': 501, 'text': '30]', 'ref_id': 'BIBREF27'}],\n",
       "  'ref_spans': [],\n",
       "  'section': 'CD18'},\n",
       " {'text': 'Two more recent studies addressed the question of binding sites. Saadi et al [31] determined that two strains of the pathogen Bordetella pertussis bound more efficiently to RSV-infected cells, and that the binding was reduced upon pretreatment of the cells with anti-CD14 or anti-CD18 antibodies. Similarly, Raza et al [32] reported that both CD14 and CD18 on RSV-infected epithelial cells contributed to the binding of nonpilate Neisseria meningitidis. In vivo testing is required before the clinical significance of these intriguing findings can be appreciated.',\n",
       "  'cite_spans': [{'start': 77,\n",
       "    'end': 81,\n",
       "    'text': '[31]',\n",
       "    'ref_id': 'BIBREF28'},\n",
       "   {'start': 319, 'end': 323, 'text': '[32]', 'ref_id': 'BIBREF29'}],\n",
       "  'ref_spans': [],\n",
       "  'section': 'CD18'},\n",
       " {'text': 'RSV-infected epithelial cells in culture do not show features that are suggestive of apoptosis (ie no evidence of membrane blebbing, fragmentation of chromosomal DNA, or characteristic changes in nuclear morphology). Takeuchi et al [33] showed that, although RSV-infected epithelial cells express a number of apoptosis-associated genes, including interferon regulatory factor-1, IL-1β-converting enzyme and caspase 3, they do not undergo formal apoptosis.',\n",
       "  'cite_spans': [{'start': 232,\n",
       "    'end': 236,\n",
       "    'text': '[33]',\n",
       "    'ref_id': 'BIBREF30'}],\n",
       "  'ref_spans': [],\n",
       "  'section': 'Protection from programmed cell death'},\n",
       " {'text': 'As part of our attempts to understand mucosal responses in a more systematic manner (see below), we discovered that RSV-infected epithelial cells express the recently described antiapoptosis gene IEX-1L [34] . In our studies, we found that expression of IEX-1L is a response to active virus; no gene expression was observed in response to irradiated, replication-incompetent virus. Moreover, expression of IEX-1L is not observed in response to adenoviral infection, suggesting that expression of this gene is not a universal response to cellular perturbation, or indeed to all viral infections. Functionally, we also demonstrated that RSV infection protects epithelial cells from TNF-α-induced apoptosis, an effect that is temporally associated with the expression of IEX-1L.',\n",
       "  'cite_spans': [{'start': 203,\n",
       "    'end': 207,\n",
       "    'text': '[34]',\n",
       "    'ref_id': 'BIBREF31'}],\n",
       "  'ref_spans': [],\n",
       "  'section': 'Protection from programmed cell death'},\n",
       " {'text': 'Apoptosis is generally considered to be a highly efficient self-defense mechanism employed by host target cells, because it permits the infected host to dispose of viral proteins and nucleic acids on a single-cell basis without inducing an inflammatory response. It is thus not surprising that many viruses have evolved strategies to circumvent this response. Of interest, Krilov et al [35] demonstrated that monocytes and cord blood mononuclear cells are similarly protected from apoptosis when infected with RSV.',\n",
       "  'cite_spans': [{'start': 386,\n",
       "    'end': 390,\n",
       "    'text': '[35]',\n",
       "    'ref_id': 'BIBREF32'}],\n",
       "  'ref_spans': [],\n",
       "  'section': 'Protection from programmed cell death'},\n",
       " {'text': 'Although virus-induced protection from apoptosis appears advantageous to the virus alone, another interpretation may be considered. Because respiratory epithelial cells are now recognized as a major source of leukocyte chemoattractants, and because leukocyte recruitment to the lung has been associated with enhanced viral clearance and prolonged survival in pneumovirus infection [22] , the ability to maintain chemoattractant production from viable cells may ultimately benefit the host organism as well.',\n",
       "  'cite_spans': [{'start': 381,\n",
       "    'end': 385,\n",
       "    'text': '[22]',\n",
       "    'ref_id': 'BIBREF19'}],\n",
       "  'ref_spans': [],\n",
       "  'section': 'Protection from programmed cell death'},\n",
       " {'text': 'Available online http://respiratory-research.com/content/2/4/225',\n",
       "  'cite_spans': [],\n",
       "  'ref_spans': [],\n",
       "  'section': 'Protection from programmed cell death'},\n",
       " {'text': 'In tissue culture, RSV-infection is characterized by the formation of giant-cell syncytia. The mechanisms for the formation of these fused masses of cells depend in part on the expression of the RSV-specific fusion (F) protein on the surface of infected host cells, and in part on virusmediated changes in cytoskeletal architecture. It is important to note that RSV-induced changes in cytoskeletal architecture are not restricted to cell lines grown in vitro, as giant-cell syncytia have also been found in pathologic lung specimens obtained from both humans and animals that were infected with RSV.',\n",
       "  'cite_spans': [],\n",
       "  'ref_spans': [],\n",
       "  'section': 'Syncytia formation'},\n",
       " {'text': 'Again, as part of our systematic study of gene expression in response to pneumovirus infection, we found that human respiratory epithelial cells respond to RSV infection with increased expression of the cytoskeletal protein cytokeratin-17 [36] . Cytokeratin-17 is a 46-kDa cytoskeletal protein that belongs to the class I acidic cytokeratin family. In the lung, expression of cytokeratin-17 is normally restricted to basal epithelial cells of the larynx, trachea, and bronchi. In RSV-infected cells, we found expression of Ck-17 predominantly at sites of syncytia formation, and thus provided the first description of a unique component of these pathognomonic structures at the molecular level. Similar to what has been reported for the production of IL-8, expression of Ck-17 is dependent on the activity of the transcription factor NF-κB, and future studies will determine the role of the NF-κB consensus site (-200 to -208 of the cytokeratin-17 promoter) in mediating this response.',\n",
       "  'cite_spans': [{'start': 239,\n",
       "    'end': 243,\n",
       "    'text': '[36]',\n",
       "    'ref_id': 'BIBREF34'}],\n",
       "  'ref_spans': [],\n",
       "  'section': 'Syncytia formation'},\n",
       " {'text': 'To date, efforts to study pneumovirus-induced alterations in gene expression have relied heavily on in vitro models of virus-infected cells and cell lines. The intrinsic value of characterizing the genes identified in this artificial system is by definition limited, and the clinical and physiologic sig-nificance of any findings must ultimately be tested in vivo.',\n",
       "  'cite_spans': [],\n",
       "  'ref_spans': [],\n",
       "  'section': 'A novel model of inflammatory viral bronchiolitis: pneumonia virus of mice'},\n",
       " {'text': 'To some extent, the study of gene products in clinical specimens is possible, but this approach is limited, cumbersome, and dictated by sample availability. It is clear that an appropriate animal model of inflammatory bronchiolitis is required to characterize the alterations in gene expression discovered using the available in vitro models. Although RSV has been used for the study of specific allergic reactions to viral antigens, it is not a natural pathogen of mice, and intranasal inoculation of virus at high titer results in, at best, a minimal primary infection with a correspondingly minimal inflammatory response. In order to study gene expression in response to primary pneumovirus infection in vivo, we developed a novel mouse model of inflammatory bronchiolitis using the natural rodent pneumovirus pathogen and closest phylogenetic relative of RSV [37] -PVM. We presented our initial findings on PVM infection in mice in three recent publications [22, 38, 39] . A summary of these findings is presented in Table 2 and Fig. 1 .',\n",
       "  'cite_spans': [{'start': 962,\n",
       "    'end': 966,\n",
       "    'text': '[22,',\n",
       "    'ref_id': 'BIBREF19'},\n",
       "   {'start': 967, 'end': 970, 'text': '38,', 'ref_id': 'BIBREF36'},\n",
       "   {'start': 971, 'end': 974, 'text': '39]', 'ref_id': 'BIBREF37'}],\n",
       "  'ref_spans': [{'start': 1021,\n",
       "    'end': 1028,\n",
       "    'text': 'Table 2',\n",
       "    'ref_id': 'TABREF1'},\n",
       "   {'start': 1033, 'end': 1039, 'text': 'Fig. 1', 'ref_id': 'FIGREF0'}],\n",
       "  'section': 'A novel model of inflammatory viral bronchiolitis: pneumonia virus of mice'},\n",
       " {'text': 'To begin, we described the cellular and biochemical pathology observed in response to PVM infection in mice [38] . We found that infection could be established with as few as 30 plaque-forming units (pfu) of PVM in the inoculum, with infection resulting in significant morbidity and mortality, and viral recoveries in the order of 10 8 pfu/g lung tissue. We also noted inflammatory bronchiolitis as among the immediate responses to this infection, with bronchoalveolar lavage fluid containing virtually 100% neutrophils and eosinophils obtained as early as 3 days after inoculation. Furthermore, we found that infection was accompanied by the production of the proinflammatory chemokine MIP-1α, which was previously shown by Cook et al [40] to be an important component of the inflammatory response to the orthomyxovirus influenza virus.',\n",
       "  'cite_spans': [{'start': 108,\n",
       "    'end': 112,\n",
       "    'text': '[38]',\n",
       "    'ref_id': 'BIBREF36'},\n",
       "   {'start': 736, 'end': 740, 'text': '[40]', 'ref_id': 'BIBREF38'}],\n",
       "  'ref_spans': [],\n",
       "  'section': 'A novel model of inflammatory viral bronchiolitis: pneumonia virus of mice'},\n",
       " {'text': 'We also described the role played by MIP-1α in the pathogenesis of PVM-induced bronchiolitis [22] . Specifi- cally, we explored the responses of gene-deleted mice to infection with PVM, and found no inflammatory response in mice deficient in MIP-1α expression (MIP-1α -/-) and only minimal virus-induced inflammation in mice that lacked the major MIP-1α receptor on granulocytes chemokine receptor (CCR)1 (CCR1 -/-). Although the inflammatory response is often considered to be unnecessary and indeed detrimental, we demonstrated that the absence of granulocytic inflammation was associated with enhanced recovery of infectious virions, as well as with accelerated mortality. These results suggest that the MIP-1α/CCR1-mediated acute inflammatory response protects mice by delaying the lethal sequelae of viral infection.',\n",
       "  'cite_spans': [{'start': 93,\n",
       "    'end': 97,\n",
       "    'text': '[22]',\n",
       "    'ref_id': 'BIBREF19'}],\n",
       "  'ref_spans': [],\n",
       "  'section': 'A novel model of inflammatory viral bronchiolitis: pneumonia virus of mice'},\n",
       " {'text': \"Our most recent report on this subject [39] presents a direct comparison between the responses of mice to challenge with PVM and RSV. Although RSV is not a natural pathogen of mice, it has been used extensively in mouse models of human infection because a limited, or 'semipermissive' infection can be established via intranasal inocula-tion of virus at very high titers. In this regard, we found (as have others) that RSV infection did not result in any measurable degree of morbidity, and that viral recovery was significantly lower than that found in the inoculum; these results suggested that there was no significant viral replication in mouse lung tissue. We further demonstrated that the inflammatory response to RSV challenge was minimal, as few leukocytes were recruited to the lungs (Fig. 1) .\",\n",
       "  'cite_spans': [{'start': 39,\n",
       "    'end': 43,\n",
       "    'text': '[39]',\n",
       "    'ref_id': 'BIBREF37'}],\n",
       "  'ref_spans': [{'start': 793,\n",
       "    'end': 801,\n",
       "    'text': '(Fig. 1)',\n",
       "    'ref_id': 'FIGREF0'}],\n",
       "  'section': 'Respiratory Research Vol 2 No 4 Domachowske et al'},\n",
       " {'text': 'Taken together, our results suggest that infection of mice with PVM provides a superior model for the study of acute inflammatory bronchiolitis in response to pneumovirus infection in vivo. The advantages of this model include the following: clinical parameters -morbidity and mortalitythat can be measured clearly and specifically; clear evidence of viral replication in lung tissue, with incremental recoveries that, at peak, are in excess of 10 8 pfu/g in response to as few as 30 pfu in the inoculum; and a dramatic granulocytic response that is modulated at least in part by the proinflammatory chemokine MIP-1α and its receptor CCR1. ',\n",
       "  'cite_spans': [],\n",
       "  'ref_spans': [],\n",
       "  'section': 'Respiratory Research Vol 2 No 4 Domachowske et al'},\n",
       " {'text': \"Traditionally, analysis of gene expression through measurement of steady-state levels of individual mRNAs could be conducted only one gene at a time using northern blotting, dot blots, or quantitative reverse transcription-PCR. Differential display, serial analysis of gene expression, and total gene analysis offer great promise, because they are multiplex technologies that provide simultaneous analysis of multiple mRNAs isolated under conditions of interest via PCR amplification techniques. DNA hybridization arrays are theoretically the most efficient of the gene expression analysis techniques. Although many skeptics have described these genome-based approaches as expensive, nonhypothesis-driven 'fishing expeditions', we view them as broad-based screening techniques that will enable us to identify patterns of gene expression that can then be subjected to careful characterization and analysis.\",\n",
       "  'cite_spans': [],\n",
       "  'ref_spans': [],\n",
       "  'section': 'Genomic approaches to alterations in gene expression'},\n",
       " {'text': 'Differential display is a semiquantitative, reverse transcription-PCR-based technique that is used to compare mRNAs from two or more conditions of interest. Both increased and decreased expression of specific amplicons will be evident -an obvious advantage to this approach. Total RNA can be isolated from virus infected versus uninfected cells or mouse lungs both before and during infection, and differential display is performed using degenerate T11(XY) anchoring primers and random upstream oligomers, as described elsewhere [34, 36] . The resulting PCR products are separated by electrophoresis, and the gel is dried and exposed to film. An example of our results comparing cDNA amplicons from RNA extracted from RSV-infected epithelial cells daily for 4 days is shown in Fig. 2 . Differentially expressed bands are cut from the gel, eluted and reamplified using the same primers that generated the original signal, and northern blots generated from RNA extracted from pneumovirus-infected cells or tissue over time and probed with the differentially expressed amplicons serve to confirm differential expression of the identified sequence.',\n",
       "  'cite_spans': [{'start': 529,\n",
       "    'end': 533,\n",
       "    'text': '[34,',\n",
       "    'ref_id': 'BIBREF31'},\n",
       "   {'start': 534, 'end': 537, 'text': '36]', 'ref_id': 'BIBREF34'}],\n",
       "  'ref_spans': [{'start': 777, 'end': 783, 'text': 'Fig. 2', 'ref_id': None}],\n",
       "  'section': 'Differential display'},\n",
       " {'text': 'The DNA sequences of the newly identified differentially expressed amplicons are compared with sequences present in the GenBank database. Viral sequences are expected to be upregulated over time and can be identified immediately, because the entire genomes of both PVM and RSV are present in GenBank. In cases in which the amplicon represents a newly discovered gene, potential openreading frames are compared with sequences that are present in the Swiss protein database; motifs that share homologies with known proteins represent important clues to the identity of the differentially expressed gene.',\n",
       "  'cite_spans': [],\n",
       "  'ref_spans': [],\n",
       "  'section': 'Differential display'},\n",
       " {'text': 'With the help of differential display, we have identified and characterized several genes that are upregulated in RSV-infected respiratory epithelial cells. Two specific examples of genes that were found to be induced during RSV infection, and later characterized as playing independent roles in the pathophysiology of RSV infection, are the antiapoptosis gene IEX-1L [34] and the gene that encodes the cytoskeletal protein cytokeratin-17 [36] .',\n",
       "  'cite_spans': [{'start': 368,\n",
       "    'end': 372,\n",
       "    'text': '[34]',\n",
       "    'ref_id': 'BIBREF31'},\n",
       "   {'start': 439, 'end': 443, 'text': '[36]', 'ref_id': 'BIBREF34'}],\n",
       "  'ref_spans': [],\n",
       "  'section': 'Differential display'},\n",
       " {'text': 'Unlike DNA viruses, which are known to encode virus-specific antiapoptosis genes, RSV -an RNA virus with a small (approximately 15.2 kb) viral genome -was shown to alter host cell expression of the apoptosis inhibitor IEX-1L. After demonstrating that IEX-1L mRNA was present at sevenfold higher concentrations in RSV-infected respiratory epithelial cells when compared with uninfected cells, we concluded that this cellular response protected against TNF-α-induced programmed cell death during viral infection. Further efforts to determine which of the 11 RSV proteins participate in the trans-activation of the IEX-1L gene (either directly or indirectly) are ongoing.',\n",
       "  'cite_spans': [],\n",
       "  'ref_spans': [],\n",
       "  'section': 'Differential display'},\n",
       " {'text': 'A second example of a gene that is specifically upregulated in RSV-infected respiratory epithelium, as identified by differential display, is that which encodes cytokeratin-17 [36] . Upon characterizing the molecular events that are important for cytokeratin-17 induction, we demonstrated a link to an NF-κB signaling pathway. Above, we discussed the importance of this transcription factor in the regulation of proinflammatory cytokine gene expression, and because of this involvement we were not surprised to discover its role in virus-induced cytokeratin-17 gene regulation. Perhaps the most interesting observation made during these experiments was the in situ localization of cytokeratin-17 protein to areas of cytopathic syncytia formation, suggesting a role for this cytoskeletal protein in their formation. Of note, we observed a dramatic decrease in RSV replication and in syncytia formation when we blocked cytokeratin-17 expression, suggesting that blocking syncytia formation, at least in part, impairs the direct cell-cell spread and productive replication of virus.',\n",
       "  'cite_spans': [{'start': 176,\n",
       "    'end': 180,\n",
       "    'text': '[36]',\n",
       "    'ref_id': 'BIBREF34'}],\n",
       "  'ref_spans': [],\n",
       "  'section': 'Differential display'},\n",
       " {'text': 'Although there are several companies that market these systems and components, the cytokine gene macroarray systems recently developed by R&D Systems (Sigma Genosys ® ; Minneapolis, MN, USA) and Clontech (Atlas ® ; Palo Alto, CA, USA) represent some of the newer opportunities available that have a focus on gene products that are known to be involved in inflammation. These arrays consist of different cDNAs printed as PCR products onto charged nylon membranes. An example of our experience with the Sigma Genosys array is shown in Fig. 3 . For this example, total RNA was extracted from RSV-infected HEp-2 cells and uninfected controls at day 3 after infection. Three micrograms of total RNA was used in a cDNA synthesis reaction, using a proprietary mixture of 378 primer pairs and trace amounts of 32 P-radiolabeled dCTP.',\n",
       "  'cite_spans': [],\n",
       "  'ref_spans': [{'start': 533, 'end': 539, 'text': 'Fig. 3', 'ref_id': None}],\n",
       "  'section': 'Gene arrays'},\n",
       " {'text': 'The resulting radiolabeled products were hybridized to the macroarrays overnight at 65°C, and then washed and exposed to film. The arrow highlights one of the most obviously upregulated sequences from this experiment, which was identified as the gene encoding human MIP-1α. The physiologic importance of MIP-1α upregulation during human RSV infection and during rodent PVM bronchiolitis has already been described.',\n",
       "  'cite_spans': [],\n",
       "  'ref_spans': [],\n",
       "  'section': 'Gene arrays'},\n",
       " {'text': 'Microarrays can be differentiated from macroarrays in several ways. Among these differences, the microarray matrix is a glass or plastic slide, probes are labeled with fluorescent dye rather than via radioisotopes, and, most significantly, microarrays generally include a larger number and a higher density of imbedded sequences than do macroarrays. Although this may seem to be highly appealing at first, the massive amounts of data generated by microarray technology poses new challenges with respect to data normalization, management, and development of mathematical models to assist in data interpretation.',\n",
       "  'cite_spans': [],\n",
       "  'ref_spans': [],\n",
       "  'section': 'Gene arrays'},\n",
       " {'text': 'The pneumoviruses RSV and PVM enter respiratory epithelial cells via a receptor-mediated event. During hostcell attachment and internalization, the target cell begins to alter its gene expression, which, among other events, involves the transcriptional upregulation of cytokine and chemokine genes. As RSV replication progresses, additional changes in cellular gene expression can be observed, including induction of the potent antiapoptosis gene IEX-1L and increased expression of the otherwise quiescent gene that encodes cytokeratin-17. What we know regarding the physiologic importance of these genes and their gene products has been described, but there is more to be learned. As the available technologies evolve, we can continue to capitalize on the use of Display of amplicons generated from RNA extracted from RSV-infected cells at daily intervals following infection (days 0-4) using a single anchoring primer, T11GC (downstream primer 8) and (A-H) eight random 10mers. Two differentially expressed sequences are highlighted by arrows (the black arrow shows an upregulated amplicon, and the white arrow highlights a downregulated amplicon). Several other differentially expressed signals are also seen.',\n",
       "  'cite_spans': [],\n",
       "  'ref_spans': [],\n",
       "  'section': 'Conclusion'},\n",
       " {'text': 'genomic approaches as large-scale screening tools to identify genes that play important roles in the pathophysiology of pneumovirus infection. These elegant and simple tools will provide us with the means for thorough and systematic exploration of gene expression, both in the estab- Cytokine macroarray probed with radiolabelled cDNA generated from total RNA extracted from epithelial cells 48 h after RSV infection (upper panel) or 48 h after exposure to conditioned medium (lower panel). Signal intensity of each gene under each condition is compared. The arrow highlights the signal for human MIP-1α present at 12-fold higher concentration in infected epithelial cells compared with the uninfected controls.',\n",
       "  'cite_spans': [],\n",
       "  'ref_spans': [],\n",
       "  'section': 'Conclusion'}]"
      ]
     },
     "execution_count": 10,
     "metadata": {},
     "output_type": "execute_result"
    }
   ],
   "source": [
    "data['body_text'] #neested data structure again: list that have inside dictionaries. each dictionary is a paragraph."
   ]
  },
  {
   "cell_type": "code",
   "execution_count": 11,
   "metadata": {},
   "outputs": [
    {
     "data": {
      "text/plain": [
       "37"
      ]
     },
     "execution_count": 11,
     "metadata": {},
     "output_type": "execute_result"
    }
   ],
   "source": [
    "len(data['body_text']) # have 37 paragrphs"
   ]
  },
  {
   "cell_type": "code",
   "execution_count": 12,
   "metadata": {},
   "outputs": [],
   "source": [
    "content_body = '' # type str variable for store content body text\n",
    "for i in range(len(data['body_text'])):\n",
    "    content_body += data['body_text'][i]['text']"
   ]
  },
  {
   "cell_type": "code",
   "execution_count": 13,
   "metadata": {},
   "outputs": [
    {
     "data": {
      "text/plain": [
       "\"RSV and PVM are viruses of the family Paramyxoviridae, subfamily pneumovirus; they are enveloped, singlestranded, nonsegmented RNA viruses that can cause intense viral bronchiolitis in humans and mice, respectively. In its most severe form, the lower respiratory tract infection caused by pneumoviruses is associated with the development of peribronchiolar infiltrates that are accompanied by submucosal edema and bronchorrhea, and ultimately leads to bronchiolar obstruction and compromised oxygen transfer. As the infection is confined to the respiratory epithelium, the responses of these cells are clearly of primary importance in determining the nature and extent of the resulting inflammatory process.Most of our understanding of responses to pneumovirus infection has emerged from studies of RSV infection of human epithelial target cells in vitro; a list of genes and/or gene products produced by epithelial cells in response to RSV infection in vitro is provided in Table 1 . At the cellular level, epithelial cells initially respond to RSV infection by reducing their ciliary beat frequency. Production and release of chemoattractant cytokines (chemokines) can be observed as early as 12 h after infection, leading to the recruitment of specific leukocyte subsets to the lung tissue. RSV-infected epithelial cells become resistant to tumor necrosis factor (TNF)-α-induced apoptosis, but later fuse to form giant-cell syncytia and die by cellular necrosis. We review the molecular bases (to the extent that theyare understood) of these specific responses, and discuss several novel strategies that may permit us to study the responses to RSV and PVM infection in a more coherent and systematic manner.Tristram et al [1] observed that explanted respiratory epithelial cells slow their ciliary beat frequency almost immediately after exposure to RSV, with complete ciliostasis seen as early as 6 h after the initial infection. The molecular basis of ciliostasis remains completely unknown.The chemokines and cytokines with production and release that has been associated with RSV infection of human epithelial cells are listed in Table 1 . Much of this work was also recently reviewed elsewhere [2, 3] . We focus here on the three chemokines whose molecular mechanisms and physiologic implications are best understood.The earliest reports on this subject described production of the neutrophil chemoattractant IL-8 from tissue culture supernatants from RSV-infected cells [4] [5] [6] and in nasal secretions from patients with viral rhinitis [7] . IL-8 has since been detected in lower airway secretions from patients with severe RSV bronchiolitis [8] , and the neutrophil influx observed in response to this infection is probably due, at least in part, to the activity of this chemokine.At the cellular level IL-8 production can be observed in response to inactivated RSV virions, whereas IL-8 production in response to active infection was inhibited by ribavarin, amiloride, and antioxidants [9, 10] . Several groups have demonstrated activation of the transcription factor nuclear factor-κB (NF-κB) in response to RSV infection, and NF-κB is recognized for its central role in eliciting the production of IL-8 [9, 11, 12] . The transcription factor NF-IL-6 is also produced in response to RSV infection [13] , and participates in a co-operative manner with NF-κB in the regulation of IL-8 gene expression [11] , although later studies suggest that activator protein-1 may function preferentially in this role [14] . Interestingly, the NF-κB regulator IκBα, which functions by inhibiting NF-κB activation in response to TNF-α, was produced with different kinetics and does not promote a reversal of NF-κB activation in response to RSV infection as it does in response to TNF-α [15] . Most recently, Casola et al [16] demonstrated that the IL-8 promoter contains independent response elements, with nucleotides -162 to -132 representing a unique RSV response element that is distinct from elements necessary for IL-8 production in response to TNF-α. This concept of a stimulus-specific response will probably make an important contribution toward our understanding of how pneumoviruses promote transcription of unique and specific sets of independent gene products.The pleiotropic chemokine regulated upon activation, normal T-cell expressed and secreted (RANTES) has also been detected in supernatants from RSV-infected epithelial cells in culture [17, 18] , as well as in upper and lower airway secretions from patients infected with this virus [7, 8] . RANTES acts as a chemoattractant for eosinophils and monocytes in vitro, although its role in vivo is somewhat less clear. Similar to IL-8, RANTES can be produced in vitro in response to inactivated virions [8] , and involves NF-κB activation, binding, and nuclear translocation [19] . However, Koga et al [20] demonstrated that stabilization of RANTES mRNA, a response to RSV infection mediated in part by nucleotides 11-389 of the RANTES gene, is probably the primary mechanism underlying increased production and secretion of RANTES protein. Further studies will determine whether a similar mechanism is also in place for IL-8 and other RSV-mediated responses. Several groups have recently shown that macrophage inflammatory protein (MIP)-1α is released from RSVinfected cells in culture [7, 21] ; MIP-1α was also detected in upper and lower airway secretions from RSV-infected patients [7, 8] . Interestingly, of the three aforementioned chemokines, MIP-1α is the one that is most closely correlated with the presence of eosinophil degranulation products; this, together with data from our PVM model of pneumovirus infection [22] , has suggested to us that MIP-1α plays a pivotal role in eosinophil recruitment in response to primary pneumovirus infection. Interestingly, production of MIP-1α in cell culture requires active viral replication [8] , which suggests that this response may proceed by a mechanism that is completely distinct from that which elicits production of RANTES and IL-8. However, no reports to date have addressed the molecular mechanism that underlies the RSV-mediated MIP-1α response.A list of cell-surface molecules that have been reported as expressed in response to RSV infection is shown in Table 1 . We focus here on the expression of intercellular adhesion molecule (ICAM)-1 (CD54) and the leukocyte integrin CD18.Increased expression of this cell-surface adhesion protein was observed in both respiratory epithelial cell lines [23, 24] and in human nasal epithelial cells [25] in response to infection with RSV in vitro. Chini et al [26] demonstrated that the expression of ICAM-1 mRNA, similar to IL-8 and RANTES, was dependent on an intact NF-κB site in the gene promoter, and demonstrated a role for the consensus binding site for the factor CCAAT/ enhancer-binding protein. Stark et al [27] demonstrated that ICAM-1 and CD18 expressed in response to RSV serve to enhance neutrophil and eosinophil binding to epithelial cells.CD18 is a polypeptide of the integrin family that functions in mediating cell-cell interactions. Several groups have observed expression of CD18 on epithelial cells in response to RSV infection [27, 28] , with CD18 shown to enhance the degranulation of eosinophils in this specific setting [28] . Of particular interest are the recent findings relating expression of CD18 (along with CD14) to earlier literature on bacterial superinfections in the setting of viral infections. Earlier studies [29, 30] reported enhanced binding of bacteria to respiratory epithelial cells that were infected with RSV, findings that had clinical implications relating to acute bacterial otitis media in infants.Two more recent studies addressed the question of binding sites. Saadi et al [31] determined that two strains of the pathogen Bordetella pertussis bound more efficiently to RSV-infected cells, and that the binding was reduced upon pretreatment of the cells with anti-CD14 or anti-CD18 antibodies. Similarly, Raza et al [32] reported that both CD14 and CD18 on RSV-infected epithelial cells contributed to the binding of nonpilate Neisseria meningitidis. In vivo testing is required before the clinical significance of these intriguing findings can be appreciated.RSV-infected epithelial cells in culture do not show features that are suggestive of apoptosis (ie no evidence of membrane blebbing, fragmentation of chromosomal DNA, or characteristic changes in nuclear morphology). Takeuchi et al [33] showed that, although RSV-infected epithelial cells express a number of apoptosis-associated genes, including interferon regulatory factor-1, IL-1β-converting enzyme and caspase 3, they do not undergo formal apoptosis.As part of our attempts to understand mucosal responses in a more systematic manner (see below), we discovered that RSV-infected epithelial cells express the recently described antiapoptosis gene IEX-1L [34] . In our studies, we found that expression of IEX-1L is a response to active virus; no gene expression was observed in response to irradiated, replication-incompetent virus. Moreover, expression of IEX-1L is not observed in response to adenoviral infection, suggesting that expression of this gene is not a universal response to cellular perturbation, or indeed to all viral infections. Functionally, we also demonstrated that RSV infection protects epithelial cells from TNF-α-induced apoptosis, an effect that is temporally associated with the expression of IEX-1L.Apoptosis is generally considered to be a highly efficient self-defense mechanism employed by host target cells, because it permits the infected host to dispose of viral proteins and nucleic acids on a single-cell basis without inducing an inflammatory response. It is thus not surprising that many viruses have evolved strategies to circumvent this response. Of interest, Krilov et al [35] demonstrated that monocytes and cord blood mononuclear cells are similarly protected from apoptosis when infected with RSV.Although virus-induced protection from apoptosis appears advantageous to the virus alone, another interpretation may be considered. Because respiratory epithelial cells are now recognized as a major source of leukocyte chemoattractants, and because leukocyte recruitment to the lung has been associated with enhanced viral clearance and prolonged survival in pneumovirus infection [22] , the ability to maintain chemoattractant production from viable cells may ultimately benefit the host organism as well.Available online http://respiratory-research.com/content/2/4/225In tissue culture, RSV-infection is characterized by the formation of giant-cell syncytia. The mechanisms for the formation of these fused masses of cells depend in part on the expression of the RSV-specific fusion (F) protein on the surface of infected host cells, and in part on virusmediated changes in cytoskeletal architecture. It is important to note that RSV-induced changes in cytoskeletal architecture are not restricted to cell lines grown in vitro, as giant-cell syncytia have also been found in pathologic lung specimens obtained from both humans and animals that were infected with RSV.Again, as part of our systematic study of gene expression in response to pneumovirus infection, we found that human respiratory epithelial cells respond to RSV infection with increased expression of the cytoskeletal protein cytokeratin-17 [36] . Cytokeratin-17 is a 46-kDa cytoskeletal protein that belongs to the class I acidic cytokeratin family. In the lung, expression of cytokeratin-17 is normally restricted to basal epithelial cells of the larynx, trachea, and bronchi. In RSV-infected cells, we found expression of Ck-17 predominantly at sites of syncytia formation, and thus provided the first description of a unique component of these pathognomonic structures at the molecular level. Similar to what has been reported for the production of IL-8, expression of Ck-17 is dependent on the activity of the transcription factor NF-κB, and future studies will determine the role of the NF-κB consensus site (-200 to -208 of the cytokeratin-17 promoter) in mediating this response.To date, efforts to study pneumovirus-induced alterations in gene expression have relied heavily on in vitro models of virus-infected cells and cell lines. The intrinsic value of characterizing the genes identified in this artificial system is by definition limited, and the clinical and physiologic sig-nificance of any findings must ultimately be tested in vivo.To some extent, the study of gene products in clinical specimens is possible, but this approach is limited, cumbersome, and dictated by sample availability. It is clear that an appropriate animal model of inflammatory bronchiolitis is required to characterize the alterations in gene expression discovered using the available in vitro models. Although RSV has been used for the study of specific allergic reactions to viral antigens, it is not a natural pathogen of mice, and intranasal inoculation of virus at high titer results in, at best, a minimal primary infection with a correspondingly minimal inflammatory response. In order to study gene expression in response to primary pneumovirus infection in vivo, we developed a novel mouse model of inflammatory bronchiolitis using the natural rodent pneumovirus pathogen and closest phylogenetic relative of RSV [37] -PVM. We presented our initial findings on PVM infection in mice in three recent publications [22, 38, 39] . A summary of these findings is presented in Table 2 and Fig. 1 .To begin, we described the cellular and biochemical pathology observed in response to PVM infection in mice [38] . We found that infection could be established with as few as 30 plaque-forming units (pfu) of PVM in the inoculum, with infection resulting in significant morbidity and mortality, and viral recoveries in the order of 10 8 pfu/g lung tissue. We also noted inflammatory bronchiolitis as among the immediate responses to this infection, with bronchoalveolar lavage fluid containing virtually 100% neutrophils and eosinophils obtained as early as 3 days after inoculation. Furthermore, we found that infection was accompanied by the production of the proinflammatory chemokine MIP-1α, which was previously shown by Cook et al [40] to be an important component of the inflammatory response to the orthomyxovirus influenza virus.We also described the role played by MIP-1α in the pathogenesis of PVM-induced bronchiolitis [22] . Specifi- cally, we explored the responses of gene-deleted mice to infection with PVM, and found no inflammatory response in mice deficient in MIP-1α expression (MIP-1α -/-) and only minimal virus-induced inflammation in mice that lacked the major MIP-1α receptor on granulocytes chemokine receptor (CCR)1 (CCR1 -/-). Although the inflammatory response is often considered to be unnecessary and indeed detrimental, we demonstrated that the absence of granulocytic inflammation was associated with enhanced recovery of infectious virions, as well as with accelerated mortality. These results suggest that the MIP-1α/CCR1-mediated acute inflammatory response protects mice by delaying the lethal sequelae of viral infection.Our most recent report on this subject [39] presents a direct comparison between the responses of mice to challenge with PVM and RSV. Although RSV is not a natural pathogen of mice, it has been used extensively in mouse models of human infection because a limited, or 'semipermissive' infection can be established via intranasal inocula-tion of virus at very high titers. In this regard, we found (as have others) that RSV infection did not result in any measurable degree of morbidity, and that viral recovery was significantly lower than that found in the inoculum; these results suggested that there was no significant viral replication in mouse lung tissue. We further demonstrated that the inflammatory response to RSV challenge was minimal, as few leukocytes were recruited to the lungs (Fig. 1) .Taken together, our results suggest that infection of mice with PVM provides a superior model for the study of acute inflammatory bronchiolitis in response to pneumovirus infection in vivo. The advantages of this model include the following: clinical parameters -morbidity and mortalitythat can be measured clearly and specifically; clear evidence of viral replication in lung tissue, with incremental recoveries that, at peak, are in excess of 10 8 pfu/g in response to as few as 30 pfu in the inoculum; and a dramatic granulocytic response that is modulated at least in part by the proinflammatory chemokine MIP-1α and its receptor CCR1. Traditionally, analysis of gene expression through measurement of steady-state levels of individual mRNAs could be conducted only one gene at a time using northern blotting, dot blots, or quantitative reverse transcription-PCR. Differential display, serial analysis of gene expression, and total gene analysis offer great promise, because they are multiplex technologies that provide simultaneous analysis of multiple mRNAs isolated under conditions of interest via PCR amplification techniques. DNA hybridization arrays are theoretically the most efficient of the gene expression analysis techniques. Although many skeptics have described these genome-based approaches as expensive, nonhypothesis-driven 'fishing expeditions', we view them as broad-based screening techniques that will enable us to identify patterns of gene expression that can then be subjected to careful characterization and analysis.Differential display is a semiquantitative, reverse transcription-PCR-based technique that is used to compare mRNAs from two or more conditions of interest. Both increased and decreased expression of specific amplicons will be evident -an obvious advantage to this approach. Total RNA can be isolated from virus infected versus uninfected cells or mouse lungs both before and during infection, and differential display is performed using degenerate T11(XY) anchoring primers and random upstream oligomers, as described elsewhere [34, 36] . The resulting PCR products are separated by electrophoresis, and the gel is dried and exposed to film. An example of our results comparing cDNA amplicons from RNA extracted from RSV-infected epithelial cells daily for 4 days is shown in Fig. 2 . Differentially expressed bands are cut from the gel, eluted and reamplified using the same primers that generated the original signal, and northern blots generated from RNA extracted from pneumovirus-infected cells or tissue over time and probed with the differentially expressed amplicons serve to confirm differential expression of the identified sequence.The DNA sequences of the newly identified differentially expressed amplicons are compared with sequences present in the GenBank database. Viral sequences are expected to be upregulated over time and can be identified immediately, because the entire genomes of both PVM and RSV are present in GenBank. In cases in which the amplicon represents a newly discovered gene, potential openreading frames are compared with sequences that are present in the Swiss protein database; motifs that share homologies with known proteins represent important clues to the identity of the differentially expressed gene.With the help of differential display, we have identified and characterized several genes that are upregulated in RSV-infected respiratory epithelial cells. Two specific examples of genes that were found to be induced during RSV infection, and later characterized as playing independent roles in the pathophysiology of RSV infection, are the antiapoptosis gene IEX-1L [34] and the gene that encodes the cytoskeletal protein cytokeratin-17 [36] .Unlike DNA viruses, which are known to encode virus-specific antiapoptosis genes, RSV -an RNA virus with a small (approximately 15.2 kb) viral genome -was shown to alter host cell expression of the apoptosis inhibitor IEX-1L. After demonstrating that IEX-1L mRNA was present at sevenfold higher concentrations in RSV-infected respiratory epithelial cells when compared with uninfected cells, we concluded that this cellular response protected against TNF-α-induced programmed cell death during viral infection. Further efforts to determine which of the 11 RSV proteins participate in the trans-activation of the IEX-1L gene (either directly or indirectly) are ongoing.A second example of a gene that is specifically upregulated in RSV-infected respiratory epithelium, as identified by differential display, is that which encodes cytokeratin-17 [36] . Upon characterizing the molecular events that are important for cytokeratin-17 induction, we demonstrated a link to an NF-κB signaling pathway. Above, we discussed the importance of this transcription factor in the regulation of proinflammatory cytokine gene expression, and because of this involvement we were not surprised to discover its role in virus-induced cytokeratin-17 gene regulation. Perhaps the most interesting observation made during these experiments was the in situ localization of cytokeratin-17 protein to areas of cytopathic syncytia formation, suggesting a role for this cytoskeletal protein in their formation. Of note, we observed a dramatic decrease in RSV replication and in syncytia formation when we blocked cytokeratin-17 expression, suggesting that blocking syncytia formation, at least in part, impairs the direct cell-cell spread and productive replication of virus.Although there are several companies that market these systems and components, the cytokine gene macroarray systems recently developed by R&D Systems (Sigma Genosys ® ; Minneapolis, MN, USA) and Clontech (Atlas ® ; Palo Alto, CA, USA) represent some of the newer opportunities available that have a focus on gene products that are known to be involved in inflammation. These arrays consist of different cDNAs printed as PCR products onto charged nylon membranes. An example of our experience with the Sigma Genosys array is shown in Fig. 3 . For this example, total RNA was extracted from RSV-infected HEp-2 cells and uninfected controls at day 3 after infection. Three micrograms of total RNA was used in a cDNA synthesis reaction, using a proprietary mixture of 378 primer pairs and trace amounts of 32 P-radiolabeled dCTP.The resulting radiolabeled products were hybridized to the macroarrays overnight at 65°C, and then washed and exposed to film. The arrow highlights one of the most obviously upregulated sequences from this experiment, which was identified as the gene encoding human MIP-1α. The physiologic importance of MIP-1α upregulation during human RSV infection and during rodent PVM bronchiolitis has already been described.Microarrays can be differentiated from macroarrays in several ways. Among these differences, the microarray matrix is a glass or plastic slide, probes are labeled with fluorescent dye rather than via radioisotopes, and, most significantly, microarrays generally include a larger number and a higher density of imbedded sequences than do macroarrays. Although this may seem to be highly appealing at first, the massive amounts of data generated by microarray technology poses new challenges with respect to data normalization, management, and development of mathematical models to assist in data interpretation.The pneumoviruses RSV and PVM enter respiratory epithelial cells via a receptor-mediated event. During hostcell attachment and internalization, the target cell begins to alter its gene expression, which, among other events, involves the transcriptional upregulation of cytokine and chemokine genes. As RSV replication progresses, additional changes in cellular gene expression can be observed, including induction of the potent antiapoptosis gene IEX-1L and increased expression of the otherwise quiescent gene that encodes cytokeratin-17. What we know regarding the physiologic importance of these genes and their gene products has been described, but there is more to be learned. As the available technologies evolve, we can continue to capitalize on the use of Display of amplicons generated from RNA extracted from RSV-infected cells at daily intervals following infection (days 0-4) using a single anchoring primer, T11GC (downstream primer 8) and (A-H) eight random 10mers. Two differentially expressed sequences are highlighted by arrows (the black arrow shows an upregulated amplicon, and the white arrow highlights a downregulated amplicon). Several other differentially expressed signals are also seen.genomic approaches as large-scale screening tools to identify genes that play important roles in the pathophysiology of pneumovirus infection. These elegant and simple tools will provide us with the means for thorough and systematic exploration of gene expression, both in the estab- Cytokine macroarray probed with radiolabelled cDNA generated from total RNA extracted from epithelial cells 48 h after RSV infection (upper panel) or 48 h after exposure to conditioned medium (lower panel). Signal intensity of each gene under each condition is compared. The arrow highlights the signal for human MIP-1α present at 12-fold higher concentration in infected epithelial cells compared with the uninfected controls.\""
      ]
     },
     "execution_count": 13,
     "metadata": {},
     "output_type": "execute_result"
    }
   ],
   "source": [
    "content_body"
   ]
  },
  {
   "cell_type": "markdown",
   "metadata": {},
   "source": [
    "#### document_text = content_abstract + content_body"
   ]
  },
  {
   "cell_type": "code",
   "execution_count": 15,
   "metadata": {},
   "outputs": [],
   "source": [
    "document_text =  data['metadata']['title'] + content_abstract + content_body # total content firts record"
   ]
  },
  {
   "cell_type": "code",
   "execution_count": 16,
   "metadata": {},
   "outputs": [
    {
     "name": "stdout",
     "output_type": "stream",
     "text": [
      "commentary review reports primary research CCR = chemokine receptor; ICAM = intercellular adhesion molecule; MIP = macrophage inflammatory protein; NF-κB = nuclear factor-κB; PCR = polymerase chain reaction; pfu = plaque-forming units; PVM = pneumonia virus of mice; RANTES = regulated upon activation, normal T-cell expressed and secreted; RSV = respiratory syncytial virus; TNF = tumor necrosis factor.Respiratory syncytial virus (RSV) and pneumonia virus of mice (PVM) are viruses of the family Paramyxoviridae, subfamily pneumovirus, which cause clinically important respiratory infections in humans and rodents, respectively. The respiratory epithelial target cells respond to viral infection with specific alterations in gene expression, including production of chemoattractant cytokines, adhesion molecules, elements that are related to the apoptosis response, and others that remain incompletely understood. Here we review our current understanding of these mucosal responses and discuss several genomic approaches, including differential display reverse transcription-polymerase chain reaction (PCR) and gene array strategies, that will permit us to unravel the nature of these responses in a more complete and systematic manner.RSV and PVM are viruses of the family Paramyxoviridae, subfamily pneumovirus; they are enveloped, singlestranded, nonsegmented RNA viruses that can cause intense viral bronchiolitis in humans and mice, respectively. In its most severe form, the lower respiratory tract infection caused by pneumoviruses is associated with the development of peribronchiolar infiltrates that are accompanied by submucosal edema and bronchorrhea, and ultimately leads to bronchiolar obstruction and compromised oxygen transfer. As the infection is confined to the respiratory epithelium, the responses of these cells are clearly of primary importance in determining the nature and extent of the resulting inflammatory process.Most of our understanding of responses to pneumovirus infection has emerged from studies of RSV infection of human epithelial target cells in vitro; a list of genes and/or gene products produced by epithelial cells in response to RSV infection in vitro is provided in Table 1 . At the cellular level, epithelial cells initially respond to RSV infection by reducing their ciliary beat frequency. Production and release of chemoattractant cytokines (chemokines) can be observed as early as 12 h after infection, leading to the recruitment of specific leukocyte subsets to the lung tissue. RSV-infected epithelial cells become resistant to tumor necrosis factor (TNF)-α-induced apoptosis, but later fuse to form giant-cell syncytia and die by cellular necrosis. We review the molecular bases (to the extent that theyare understood) of these specific responses, and discuss several novel strategies that may permit us to study the responses to RSV and PVM infection in a more coherent and systematic manner.Tristram et al [1] observed that explanted respiratory epithelial cells slow their ciliary beat frequency almost immediately after exposure to RSV, with complete ciliostasis seen as early as 6 h after the initial infection. The molecular basis of ciliostasis remains completely unknown.The chemokines and cytokines with production and release that has been associated with RSV infection of human epithelial cells are listed in Table 1 . Much of this work was also recently reviewed elsewhere [2, 3] . We focus here on the three chemokines whose molecular mechanisms and physiologic implications are best understood.The earliest reports on this subject described production of the neutrophil chemoattractant IL-8 from tissue culture supernatants from RSV-infected cells [4] [5] [6] and in nasal secretions from patients with viral rhinitis [7] . IL-8 has since been detected in lower airway secretions from patients with severe RSV bronchiolitis [8] , and the neutrophil influx observed in response to this infection is probably due, at least in part, to the activity of this chemokine.At the cellular level IL-8 production can be observed in response to inactivated RSV virions, whereas IL-8 production in response to active infection was inhibited by ribavarin, amiloride, and antioxidants [9, 10] . Several groups have demonstrated activation of the transcription factor nuclear factor-κB (NF-κB) in response to RSV infection, and NF-κB is recognized for its central role in eliciting the production of IL-8 [9, 11, 12] . The transcription factor NF-IL-6 is also produced in response to RSV infection [13] , and participates in a co-operative manner with NF-κB in the regulation of IL-8 gene expression [11] , although later studies suggest that activator protein-1 may function preferentially in this role [14] . Interestingly, the NF-κB regulator IκBα, which functions by inhibiting NF-κB activation in response to TNF-α, was produced with different kinetics and does not promote a reversal of NF-κB activation in response to RSV infection as it does in response to TNF-α [15] . Most recently, Casola et al [16] demonstrated that the IL-8 promoter contains independent response elements, with nucleotides -162 to -132 representing a unique RSV response element that is distinct from elements necessary for IL-8 production in response to TNF-α. This concept of a stimulus-specific response will probably make an important contribution toward our understanding of how pneumoviruses promote transcription of unique and specific sets of independent gene products.The pleiotropic chemokine regulated upon activation, normal T-cell expressed and secreted (RANTES) has also been detected in supernatants from RSV-infected epithelial cells in culture [17, 18] , as well as in upper and lower airway secretions from patients infected with this virus [7, 8] . RANTES acts as a chemoattractant for eosinophils and monocytes in vitro, although its role in vivo is somewhat less clear. Similar to IL-8, RANTES can be produced in vitro in response to inactivated virions [8] , and involves NF-κB activation, binding, and nuclear translocation [19] . However, Koga et al [20] demonstrated that stabilization of RANTES mRNA, a response to RSV infection mediated in part by nucleotides 11-389 of the RANTES gene, is probably the primary mechanism underlying increased production and secretion of RANTES protein. Further studies will determine whether a similar mechanism is also in place for IL-8 and other RSV-mediated responses. Several groups have recently shown that macrophage inflammatory protein (MIP)-1α is released from RSVinfected cells in culture [7, 21] ; MIP-1α was also detected in upper and lower airway secretions from RSV-infected patients [7, 8] . Interestingly, of the three aforementioned chemokines, MIP-1α is the one that is most closely correlated with the presence of eosinophil degranulation products; this, together with data from our PVM model of pneumovirus infection [22] , has suggested to us that MIP-1α plays a pivotal role in eosinophil recruitment in response to primary pneumovirus infection. Interestingly, production of MIP-1α in cell culture requires active viral replication [8] , which suggests that this response may proceed by a mechanism that is completely distinct from that which elicits production of RANTES and IL-8. However, no reports to date have addressed the molecular mechanism that underlies the RSV-mediated MIP-1α response.A list of cell-surface molecules that have been reported as expressed in response to RSV infection is shown in Table 1 . We focus here on the expression of intercellular adhesion molecule (ICAM)-1 (CD54) and the leukocyte integrin CD18.Increased expression of this cell-surface adhesion protein was observed in both respiratory epithelial cell lines [23, 24] and in human nasal epithelial cells [25] in response to infection with RSV in vitro. Chini et al [26] demonstrated that the expression of ICAM-1 mRNA, similar to IL-8 and RANTES, was dependent on an intact NF-κB site in the gene promoter, and demonstrated a role for the consensus binding site for the factor CCAAT/ enhancer-binding protein. Stark et al [27] demonstrated that ICAM-1 and CD18 expressed in response to RSV serve to enhance neutrophil and eosinophil binding to epithelial cells.CD18 is a polypeptide of the integrin family that functions in mediating cell-cell interactions. Several groups have observed expression of CD18 on epithelial cells in response to RSV infection [27, 28] , with CD18 shown to enhance the degranulation of eosinophils in this specific setting [28] . Of particular interest are the recent findings relating expression of CD18 (along with CD14) to earlier literature on bacterial superinfections in the setting of viral infections. Earlier studies [29, 30] reported enhanced binding of bacteria to respiratory epithelial cells that were infected with RSV, findings that had clinical implications relating to acute bacterial otitis media in infants.Two more recent studies addressed the question of binding sites. Saadi et al [31] determined that two strains of the pathogen Bordetella pertussis bound more efficiently to RSV-infected cells, and that the binding was reduced upon pretreatment of the cells with anti-CD14 or anti-CD18 antibodies. Similarly, Raza et al [32] reported that both CD14 and CD18 on RSV-infected epithelial cells contributed to the binding of nonpilate Neisseria meningitidis. In vivo testing is required before the clinical significance of these intriguing findings can be appreciated.RSV-infected epithelial cells in culture do not show features that are suggestive of apoptosis (ie no evidence of membrane blebbing, fragmentation of chromosomal DNA, or characteristic changes in nuclear morphology). Takeuchi et al [33] showed that, although RSV-infected epithelial cells express a number of apoptosis-associated genes, including interferon regulatory factor-1, IL-1β-converting enzyme and caspase 3, they do not undergo formal apoptosis.As part of our attempts to understand mucosal responses in a more systematic manner (see below), we discovered that RSV-infected epithelial cells express the recently described antiapoptosis gene IEX-1L [34] . In our studies, we found that expression of IEX-1L is a response to active virus; no gene expression was observed in response to irradiated, replication-incompetent virus. Moreover, expression of IEX-1L is not observed in response to adenoviral infection, suggesting that expression of this gene is not a universal response to cellular perturbation, or indeed to all viral infections. Functionally, we also demonstrated that RSV infection protects epithelial cells from TNF-α-induced apoptosis, an effect that is temporally associated with the expression of IEX-1L.Apoptosis is generally considered to be a highly efficient self-defense mechanism employed by host target cells, because it permits the infected host to dispose of viral proteins and nucleic acids on a single-cell basis without inducing an inflammatory response. It is thus not surprising that many viruses have evolved strategies to circumvent this response. Of interest, Krilov et al [35] demonstrated that monocytes and cord blood mononuclear cells are similarly protected from apoptosis when infected with RSV.Although virus-induced protection from apoptosis appears advantageous to the virus alone, another interpretation may be considered. Because respiratory epithelial cells are now recognized as a major source of leukocyte chemoattractants, and because leukocyte recruitment to the lung has been associated with enhanced viral clearance and prolonged survival in pneumovirus infection [22] , the ability to maintain chemoattractant production from viable cells may ultimately benefit the host organism as well.Available online http://respiratory-research.com/content/2/4/225In tissue culture, RSV-infection is characterized by the formation of giant-cell syncytia. The mechanisms for the formation of these fused masses of cells depend in part on the expression of the RSV-specific fusion (F) protein on the surface of infected host cells, and in part on virusmediated changes in cytoskeletal architecture. It is important to note that RSV-induced changes in cytoskeletal architecture are not restricted to cell lines grown in vitro, as giant-cell syncytia have also been found in pathologic lung specimens obtained from both humans and animals that were infected with RSV.Again, as part of our systematic study of gene expression in response to pneumovirus infection, we found that human respiratory epithelial cells respond to RSV infection with increased expression of the cytoskeletal protein cytokeratin-17 [36] . Cytokeratin-17 is a 46-kDa cytoskeletal protein that belongs to the class I acidic cytokeratin family. In the lung, expression of cytokeratin-17 is normally restricted to basal epithelial cells of the larynx, trachea, and bronchi. In RSV-infected cells, we found expression of Ck-17 predominantly at sites of syncytia formation, and thus provided the first description of a unique component of these pathognomonic structures at the molecular level. Similar to what has been reported for the production of IL-8, expression of Ck-17 is dependent on the activity of the transcription factor NF-κB, and future studies will determine the role of the NF-κB consensus site (-200 to -208 of the cytokeratin-17 promoter) in mediating this response.To date, efforts to study pneumovirus-induced alterations in gene expression have relied heavily on in vitro models of virus-infected cells and cell lines. The intrinsic value of characterizing the genes identified in this artificial system is by definition limited, and the clinical and physiologic sig-nificance of any findings must ultimately be tested in vivo.To some extent, the study of gene products in clinical specimens is possible, but this approach is limited, cumbersome, and dictated by sample availability. It is clear that an appropriate animal model of inflammatory bronchiolitis is required to characterize the alterations in gene expression discovered using the available in vitro models. Although RSV has been used for the study of specific allergic reactions to viral antigens, it is not a natural pathogen of mice, and intranasal inoculation of virus at high titer results in, at best, a minimal primary infection with a correspondingly minimal inflammatory response. In order to study gene expression in response to primary pneumovirus infection in vivo, we developed a novel mouse model of inflammatory bronchiolitis using the natural rodent pneumovirus pathogen and closest phylogenetic relative of RSV [37] -PVM. We presented our initial findings on PVM infection in mice in three recent publications [22, 38, 39] . A summary of these findings is presented in Table 2 and Fig. 1 .To begin, we described the cellular and biochemical pathology observed in response to PVM infection in mice [38] . We found that infection could be established with as few as 30 plaque-forming units (pfu) of PVM in the inoculum, with infection resulting in significant morbidity and mortality, and viral recoveries in the order of 10 8 pfu/g lung tissue. We also noted inflammatory bronchiolitis as among the immediate responses to this infection, with bronchoalveolar lavage fluid containing virtually 100% neutrophils and eosinophils obtained as early as 3 days after inoculation. Furthermore, we found that infection was accompanied by the production of the proinflammatory chemokine MIP-1α, which was previously shown by Cook et al [40] to be an important component of the inflammatory response to the orthomyxovirus influenza virus.We also described the role played by MIP-1α in the pathogenesis of PVM-induced bronchiolitis [22] . Specifi- cally, we explored the responses of gene-deleted mice to infection with PVM, and found no inflammatory response in mice deficient in MIP-1α expression (MIP-1α -/-) and only minimal virus-induced inflammation in mice that lacked the major MIP-1α receptor on granulocytes chemokine receptor (CCR)1 (CCR1 -/-). Although the inflammatory response is often considered to be unnecessary and indeed detrimental, we demonstrated that the absence of granulocytic inflammation was associated with enhanced recovery of infectious virions, as well as with accelerated mortality. These results suggest that the MIP-1α/CCR1-mediated acute inflammatory response protects mice by delaying the lethal sequelae of viral infection.Our most recent report on this subject [39] presents a direct comparison between the responses of mice to challenge with PVM and RSV. Although RSV is not a natural pathogen of mice, it has been used extensively in mouse models of human infection because a limited, or 'semipermissive' infection can be established via intranasal inocula-tion of virus at very high titers. In this regard, we found (as have others) that RSV infection did not result in any measurable degree of morbidity, and that viral recovery was significantly lower than that found in the inoculum; these results suggested that there was no significant viral replication in mouse lung tissue. We further demonstrated that the inflammatory response to RSV challenge was minimal, as few leukocytes were recruited to the lungs (Fig. 1) .Taken together, our results suggest that infection of mice with PVM provides a superior model for the study of acute inflammatory bronchiolitis in response to pneumovirus infection in vivo. The advantages of this model include the following: clinical parameters -morbidity and mortalitythat can be measured clearly and specifically; clear evidence of viral replication in lung tissue, with incremental recoveries that, at peak, are in excess of 10 8 pfu/g in response to as few as 30 pfu in the inoculum; and a dramatic granulocytic response that is modulated at least in part by the proinflammatory chemokine MIP-1α and its receptor CCR1. Traditionally, analysis of gene expression through measurement of steady-state levels of individual mRNAs could be conducted only one gene at a time using northern blotting, dot blots, or quantitative reverse transcription-PCR. Differential display, serial analysis of gene expression, and total gene analysis offer great promise, because they are multiplex technologies that provide simultaneous analysis of multiple mRNAs isolated under conditions of interest via PCR amplification techniques. DNA hybridization arrays are theoretically the most efficient of the gene expression analysis techniques. Although many skeptics have described these genome-based approaches as expensive, nonhypothesis-driven 'fishing expeditions', we view them as broad-based screening techniques that will enable us to identify patterns of gene expression that can then be subjected to careful characterization and analysis.Differential display is a semiquantitative, reverse transcription-PCR-based technique that is used to compare mRNAs from two or more conditions of interest. Both increased and decreased expression of specific amplicons will be evident -an obvious advantage to this approach. Total RNA can be isolated from virus infected versus uninfected cells or mouse lungs both before and during infection, and differential display is performed using degenerate T11(XY) anchoring primers and random upstream oligomers, as described elsewhere [34, 36] . The resulting PCR products are separated by electrophoresis, and the gel is dried and exposed to film. An example of our results comparing cDNA amplicons from RNA extracted from RSV-infected epithelial cells daily for 4 days is shown in Fig. 2 . Differentially expressed bands are cut from the gel, eluted and reamplified using the same primers that generated the original signal, and northern blots generated from RNA extracted from pneumovirus-infected cells or tissue over time and probed with the differentially expressed amplicons serve to confirm differential expression of the identified sequence.The DNA sequences of the newly identified differentially expressed amplicons are compared with sequences present in the GenBank database. Viral sequences are expected to be upregulated over time and can be identified immediately, because the entire genomes of both PVM and RSV are present in GenBank. In cases in which the amplicon represents a newly discovered gene, potential openreading frames are compared with sequences that are present in the Swiss protein database; motifs that share homologies with known proteins represent important clues to the identity of the differentially expressed gene.With the help of differential display, we have identified and characterized several genes that are upregulated in RSV-infected respiratory epithelial cells. Two specific examples of genes that were found to be induced during RSV infection, and later characterized as playing independent roles in the pathophysiology of RSV infection, are the antiapoptosis gene IEX-1L [34] and the gene that encodes the cytoskeletal protein cytokeratin-17 [36] .Unlike DNA viruses, which are known to encode virus-specific antiapoptosis genes, RSV -an RNA virus with a small (approximately 15.2 kb) viral genome -was shown to alter host cell expression of the apoptosis inhibitor IEX-1L. After demonstrating that IEX-1L mRNA was present at sevenfold higher concentrations in RSV-infected respiratory epithelial cells when compared with uninfected cells, we concluded that this cellular response protected against TNF-α-induced programmed cell death during viral infection. Further efforts to determine which of the 11 RSV proteins participate in the trans-activation of the IEX-1L gene (either directly or indirectly) are ongoing.A second example of a gene that is specifically upregulated in RSV-infected respiratory epithelium, as identified by differential display, is that which encodes cytokeratin-17 [36] . Upon characterizing the molecular events that are important for cytokeratin-17 induction, we demonstrated a link to an NF-κB signaling pathway. Above, we discussed the importance of this transcription factor in the regulation of proinflammatory cytokine gene expression, and because of this involvement we were not surprised to discover its role in virus-induced cytokeratin-17 gene regulation. Perhaps the most interesting observation made during these experiments was the in situ localization of cytokeratin-17 protein to areas of cytopathic syncytia formation, suggesting a role for this cytoskeletal protein in their formation. Of note, we observed a dramatic decrease in RSV replication and in syncytia formation when we blocked cytokeratin-17 expression, suggesting that blocking syncytia formation, at least in part, impairs the direct cell-cell spread and productive replication of virus.Although there are several companies that market these systems and components, the cytokine gene macroarray systems recently developed by R&D Systems (Sigma Genosys ® ; Minneapolis, MN, USA) and Clontech (Atlas ® ; Palo Alto, CA, USA) represent some of the newer opportunities available that have a focus on gene products that are known to be involved in inflammation. These arrays consist of different cDNAs printed as PCR products onto charged nylon membranes. An example of our experience with the Sigma Genosys array is shown in Fig. 3 . For this example, total RNA was extracted from RSV-infected HEp-2 cells and uninfected controls at day 3 after infection. Three micrograms of total RNA was used in a cDNA synthesis reaction, using a proprietary mixture of 378 primer pairs and trace amounts of 32 P-radiolabeled dCTP.The resulting radiolabeled products were hybridized to the macroarrays overnight at 65°C, and then washed and exposed to film. The arrow highlights one of the most obviously upregulated sequences from this experiment, which was identified as the gene encoding human MIP-1α. The physiologic importance of MIP-1α upregulation during human RSV infection and during rodent PVM bronchiolitis has already been described.Microarrays can be differentiated from macroarrays in several ways. Among these differences, the microarray matrix is a glass or plastic slide, probes are labeled with fluorescent dye rather than via radioisotopes, and, most significantly, microarrays generally include a larger number and a higher density of imbedded sequences than do macroarrays. Although this may seem to be highly appealing at first, the massive amounts of data generated by microarray technology poses new challenges with respect to data normalization, management, and development of mathematical models to assist in data interpretation.The pneumoviruses RSV and PVM enter respiratory epithelial cells via a receptor-mediated event. During hostcell attachment and internalization, the target cell begins to alter its gene expression, which, among other events, involves the transcriptional upregulation of cytokine and chemokine genes. As RSV replication progresses, additional changes in cellular gene expression can be observed, including induction of the potent antiapoptosis gene IEX-1L and increased expression of the otherwise quiescent gene that encodes cytokeratin-17. What we know regarding the physiologic importance of these genes and their gene products has been described, but there is more to be learned. As the available technologies evolve, we can continue to capitalize on the use of Display of amplicons generated from RNA extracted from RSV-infected cells at daily intervals following infection (days 0-4) using a single anchoring primer, T11GC (downstream primer 8) and (A-H) eight random 10mers. Two differentially expressed sequences are highlighted by arrows (the black arrow shows an upregulated amplicon, and the white arrow highlights a downregulated amplicon). Several other differentially expressed signals are also seen.genomic approaches as large-scale screening tools to identify genes that play important roles in the pathophysiology of pneumovirus infection. These elegant and simple tools will provide us with the means for thorough and systematic exploration of gene expression, both in the estab- Cytokine macroarray probed with radiolabelled cDNA generated from total RNA extracted from epithelial cells 48 h after RSV infection (upper panel) or 48 h after exposure to conditioned medium (lower panel). Signal intensity of each gene under each condition is compared. The arrow highlights the signal for human MIP-1α present at 12-fold higher concentration in infected epithelial cells compared with the uninfected controls.\n"
     ]
    }
   ],
   "source": [
    "print(document_text)"
   ]
  },
  {
   "cell_type": "markdown",
   "metadata": {},
   "source": [
    "####  Store data in a data dictionary(schema db proposal)"
   ]
  },
  {
   "cell_type": "code",
   "execution_count": 17,
   "metadata": {},
   "outputs": [],
   "source": [
    "data_dict = {'paper_id':[], 'documents_texts':[], 'bioportal_anotations':[]}"
   ]
  },
  {
   "cell_type": "markdown",
   "metadata": {},
   "source": [
    "#### Load paper id y document en el data_dict para el primer registro"
   ]
  },
  {
   "cell_type": "code",
   "execution_count": 18,
   "metadata": {},
   "outputs": [],
   "source": [
    "data_dict['paper_id'].append(data['paper_id'])\n",
    "data_dict['documents_texts'].append(document_text)"
   ]
  },
  {
   "cell_type": "code",
   "execution_count": 19,
   "metadata": {},
   "outputs": [
    {
     "data": {
      "text/plain": [
       "{'paper_id': ['5f48792a5fa08bed9f56016f4981ae2ca6031b32'],\n",
       " 'documents_texts': [\"commentary review reports primary research CCR = chemokine receptor; ICAM = intercellular adhesion molecule; MIP = macrophage inflammatory protein; NF-κB = nuclear factor-κB; PCR = polymerase chain reaction; pfu = plaque-forming units; PVM = pneumonia virus of mice; RANTES = regulated upon activation, normal T-cell expressed and secreted; RSV = respiratory syncytial virus; TNF = tumor necrosis factor.Respiratory syncytial virus (RSV) and pneumonia virus of mice (PVM) are viruses of the family Paramyxoviridae, subfamily pneumovirus, which cause clinically important respiratory infections in humans and rodents, respectively. The respiratory epithelial target cells respond to viral infection with specific alterations in gene expression, including production of chemoattractant cytokines, adhesion molecules, elements that are related to the apoptosis response, and others that remain incompletely understood. Here we review our current understanding of these mucosal responses and discuss several genomic approaches, including differential display reverse transcription-polymerase chain reaction (PCR) and gene array strategies, that will permit us to unravel the nature of these responses in a more complete and systematic manner.RSV and PVM are viruses of the family Paramyxoviridae, subfamily pneumovirus; they are enveloped, singlestranded, nonsegmented RNA viruses that can cause intense viral bronchiolitis in humans and mice, respectively. In its most severe form, the lower respiratory tract infection caused by pneumoviruses is associated with the development of peribronchiolar infiltrates that are accompanied by submucosal edema and bronchorrhea, and ultimately leads to bronchiolar obstruction and compromised oxygen transfer. As the infection is confined to the respiratory epithelium, the responses of these cells are clearly of primary importance in determining the nature and extent of the resulting inflammatory process.Most of our understanding of responses to pneumovirus infection has emerged from studies of RSV infection of human epithelial target cells in vitro; a list of genes and/or gene products produced by epithelial cells in response to RSV infection in vitro is provided in Table 1 . At the cellular level, epithelial cells initially respond to RSV infection by reducing their ciliary beat frequency. Production and release of chemoattractant cytokines (chemokines) can be observed as early as 12 h after infection, leading to the recruitment of specific leukocyte subsets to the lung tissue. RSV-infected epithelial cells become resistant to tumor necrosis factor (TNF)-α-induced apoptosis, but later fuse to form giant-cell syncytia and die by cellular necrosis. We review the molecular bases (to the extent that theyare understood) of these specific responses, and discuss several novel strategies that may permit us to study the responses to RSV and PVM infection in a more coherent and systematic manner.Tristram et al [1] observed that explanted respiratory epithelial cells slow their ciliary beat frequency almost immediately after exposure to RSV, with complete ciliostasis seen as early as 6 h after the initial infection. The molecular basis of ciliostasis remains completely unknown.The chemokines and cytokines with production and release that has been associated with RSV infection of human epithelial cells are listed in Table 1 . Much of this work was also recently reviewed elsewhere [2, 3] . We focus here on the three chemokines whose molecular mechanisms and physiologic implications are best understood.The earliest reports on this subject described production of the neutrophil chemoattractant IL-8 from tissue culture supernatants from RSV-infected cells [4] [5] [6] and in nasal secretions from patients with viral rhinitis [7] . IL-8 has since been detected in lower airway secretions from patients with severe RSV bronchiolitis [8] , and the neutrophil influx observed in response to this infection is probably due, at least in part, to the activity of this chemokine.At the cellular level IL-8 production can be observed in response to inactivated RSV virions, whereas IL-8 production in response to active infection was inhibited by ribavarin, amiloride, and antioxidants [9, 10] . Several groups have demonstrated activation of the transcription factor nuclear factor-κB (NF-κB) in response to RSV infection, and NF-κB is recognized for its central role in eliciting the production of IL-8 [9, 11, 12] . The transcription factor NF-IL-6 is also produced in response to RSV infection [13] , and participates in a co-operative manner with NF-κB in the regulation of IL-8 gene expression [11] , although later studies suggest that activator protein-1 may function preferentially in this role [14] . Interestingly, the NF-κB regulator IκBα, which functions by inhibiting NF-κB activation in response to TNF-α, was produced with different kinetics and does not promote a reversal of NF-κB activation in response to RSV infection as it does in response to TNF-α [15] . Most recently, Casola et al [16] demonstrated that the IL-8 promoter contains independent response elements, with nucleotides -162 to -132 representing a unique RSV response element that is distinct from elements necessary for IL-8 production in response to TNF-α. This concept of a stimulus-specific response will probably make an important contribution toward our understanding of how pneumoviruses promote transcription of unique and specific sets of independent gene products.The pleiotropic chemokine regulated upon activation, normal T-cell expressed and secreted (RANTES) has also been detected in supernatants from RSV-infected epithelial cells in culture [17, 18] , as well as in upper and lower airway secretions from patients infected with this virus [7, 8] . RANTES acts as a chemoattractant for eosinophils and monocytes in vitro, although its role in vivo is somewhat less clear. Similar to IL-8, RANTES can be produced in vitro in response to inactivated virions [8] , and involves NF-κB activation, binding, and nuclear translocation [19] . However, Koga et al [20] demonstrated that stabilization of RANTES mRNA, a response to RSV infection mediated in part by nucleotides 11-389 of the RANTES gene, is probably the primary mechanism underlying increased production and secretion of RANTES protein. Further studies will determine whether a similar mechanism is also in place for IL-8 and other RSV-mediated responses. Several groups have recently shown that macrophage inflammatory protein (MIP)-1α is released from RSVinfected cells in culture [7, 21] ; MIP-1α was also detected in upper and lower airway secretions from RSV-infected patients [7, 8] . Interestingly, of the three aforementioned chemokines, MIP-1α is the one that is most closely correlated with the presence of eosinophil degranulation products; this, together with data from our PVM model of pneumovirus infection [22] , has suggested to us that MIP-1α plays a pivotal role in eosinophil recruitment in response to primary pneumovirus infection. Interestingly, production of MIP-1α in cell culture requires active viral replication [8] , which suggests that this response may proceed by a mechanism that is completely distinct from that which elicits production of RANTES and IL-8. However, no reports to date have addressed the molecular mechanism that underlies the RSV-mediated MIP-1α response.A list of cell-surface molecules that have been reported as expressed in response to RSV infection is shown in Table 1 . We focus here on the expression of intercellular adhesion molecule (ICAM)-1 (CD54) and the leukocyte integrin CD18.Increased expression of this cell-surface adhesion protein was observed in both respiratory epithelial cell lines [23, 24] and in human nasal epithelial cells [25] in response to infection with RSV in vitro. Chini et al [26] demonstrated that the expression of ICAM-1 mRNA, similar to IL-8 and RANTES, was dependent on an intact NF-κB site in the gene promoter, and demonstrated a role for the consensus binding site for the factor CCAAT/ enhancer-binding protein. Stark et al [27] demonstrated that ICAM-1 and CD18 expressed in response to RSV serve to enhance neutrophil and eosinophil binding to epithelial cells.CD18 is a polypeptide of the integrin family that functions in mediating cell-cell interactions. Several groups have observed expression of CD18 on epithelial cells in response to RSV infection [27, 28] , with CD18 shown to enhance the degranulation of eosinophils in this specific setting [28] . Of particular interest are the recent findings relating expression of CD18 (along with CD14) to earlier literature on bacterial superinfections in the setting of viral infections. Earlier studies [29, 30] reported enhanced binding of bacteria to respiratory epithelial cells that were infected with RSV, findings that had clinical implications relating to acute bacterial otitis media in infants.Two more recent studies addressed the question of binding sites. Saadi et al [31] determined that two strains of the pathogen Bordetella pertussis bound more efficiently to RSV-infected cells, and that the binding was reduced upon pretreatment of the cells with anti-CD14 or anti-CD18 antibodies. Similarly, Raza et al [32] reported that both CD14 and CD18 on RSV-infected epithelial cells contributed to the binding of nonpilate Neisseria meningitidis. In vivo testing is required before the clinical significance of these intriguing findings can be appreciated.RSV-infected epithelial cells in culture do not show features that are suggestive of apoptosis (ie no evidence of membrane blebbing, fragmentation of chromosomal DNA, or characteristic changes in nuclear morphology). Takeuchi et al [33] showed that, although RSV-infected epithelial cells express a number of apoptosis-associated genes, including interferon regulatory factor-1, IL-1β-converting enzyme and caspase 3, they do not undergo formal apoptosis.As part of our attempts to understand mucosal responses in a more systematic manner (see below), we discovered that RSV-infected epithelial cells express the recently described antiapoptosis gene IEX-1L [34] . In our studies, we found that expression of IEX-1L is a response to active virus; no gene expression was observed in response to irradiated, replication-incompetent virus. Moreover, expression of IEX-1L is not observed in response to adenoviral infection, suggesting that expression of this gene is not a universal response to cellular perturbation, or indeed to all viral infections. Functionally, we also demonstrated that RSV infection protects epithelial cells from TNF-α-induced apoptosis, an effect that is temporally associated with the expression of IEX-1L.Apoptosis is generally considered to be a highly efficient self-defense mechanism employed by host target cells, because it permits the infected host to dispose of viral proteins and nucleic acids on a single-cell basis without inducing an inflammatory response. It is thus not surprising that many viruses have evolved strategies to circumvent this response. Of interest, Krilov et al [35] demonstrated that monocytes and cord blood mononuclear cells are similarly protected from apoptosis when infected with RSV.Although virus-induced protection from apoptosis appears advantageous to the virus alone, another interpretation may be considered. Because respiratory epithelial cells are now recognized as a major source of leukocyte chemoattractants, and because leukocyte recruitment to the lung has been associated with enhanced viral clearance and prolonged survival in pneumovirus infection [22] , the ability to maintain chemoattractant production from viable cells may ultimately benefit the host organism as well.Available online http://respiratory-research.com/content/2/4/225In tissue culture, RSV-infection is characterized by the formation of giant-cell syncytia. The mechanisms for the formation of these fused masses of cells depend in part on the expression of the RSV-specific fusion (F) protein on the surface of infected host cells, and in part on virusmediated changes in cytoskeletal architecture. It is important to note that RSV-induced changes in cytoskeletal architecture are not restricted to cell lines grown in vitro, as giant-cell syncytia have also been found in pathologic lung specimens obtained from both humans and animals that were infected with RSV.Again, as part of our systematic study of gene expression in response to pneumovirus infection, we found that human respiratory epithelial cells respond to RSV infection with increased expression of the cytoskeletal protein cytokeratin-17 [36] . Cytokeratin-17 is a 46-kDa cytoskeletal protein that belongs to the class I acidic cytokeratin family. In the lung, expression of cytokeratin-17 is normally restricted to basal epithelial cells of the larynx, trachea, and bronchi. In RSV-infected cells, we found expression of Ck-17 predominantly at sites of syncytia formation, and thus provided the first description of a unique component of these pathognomonic structures at the molecular level. Similar to what has been reported for the production of IL-8, expression of Ck-17 is dependent on the activity of the transcription factor NF-κB, and future studies will determine the role of the NF-κB consensus site (-200 to -208 of the cytokeratin-17 promoter) in mediating this response.To date, efforts to study pneumovirus-induced alterations in gene expression have relied heavily on in vitro models of virus-infected cells and cell lines. The intrinsic value of characterizing the genes identified in this artificial system is by definition limited, and the clinical and physiologic sig-nificance of any findings must ultimately be tested in vivo.To some extent, the study of gene products in clinical specimens is possible, but this approach is limited, cumbersome, and dictated by sample availability. It is clear that an appropriate animal model of inflammatory bronchiolitis is required to characterize the alterations in gene expression discovered using the available in vitro models. Although RSV has been used for the study of specific allergic reactions to viral antigens, it is not a natural pathogen of mice, and intranasal inoculation of virus at high titer results in, at best, a minimal primary infection with a correspondingly minimal inflammatory response. In order to study gene expression in response to primary pneumovirus infection in vivo, we developed a novel mouse model of inflammatory bronchiolitis using the natural rodent pneumovirus pathogen and closest phylogenetic relative of RSV [37] -PVM. We presented our initial findings on PVM infection in mice in three recent publications [22, 38, 39] . A summary of these findings is presented in Table 2 and Fig. 1 .To begin, we described the cellular and biochemical pathology observed in response to PVM infection in mice [38] . We found that infection could be established with as few as 30 plaque-forming units (pfu) of PVM in the inoculum, with infection resulting in significant morbidity and mortality, and viral recoveries in the order of 10 8 pfu/g lung tissue. We also noted inflammatory bronchiolitis as among the immediate responses to this infection, with bronchoalveolar lavage fluid containing virtually 100% neutrophils and eosinophils obtained as early as 3 days after inoculation. Furthermore, we found that infection was accompanied by the production of the proinflammatory chemokine MIP-1α, which was previously shown by Cook et al [40] to be an important component of the inflammatory response to the orthomyxovirus influenza virus.We also described the role played by MIP-1α in the pathogenesis of PVM-induced bronchiolitis [22] . Specifi- cally, we explored the responses of gene-deleted mice to infection with PVM, and found no inflammatory response in mice deficient in MIP-1α expression (MIP-1α -/-) and only minimal virus-induced inflammation in mice that lacked the major MIP-1α receptor on granulocytes chemokine receptor (CCR)1 (CCR1 -/-). Although the inflammatory response is often considered to be unnecessary and indeed detrimental, we demonstrated that the absence of granulocytic inflammation was associated with enhanced recovery of infectious virions, as well as with accelerated mortality. These results suggest that the MIP-1α/CCR1-mediated acute inflammatory response protects mice by delaying the lethal sequelae of viral infection.Our most recent report on this subject [39] presents a direct comparison between the responses of mice to challenge with PVM and RSV. Although RSV is not a natural pathogen of mice, it has been used extensively in mouse models of human infection because a limited, or 'semipermissive' infection can be established via intranasal inocula-tion of virus at very high titers. In this regard, we found (as have others) that RSV infection did not result in any measurable degree of morbidity, and that viral recovery was significantly lower than that found in the inoculum; these results suggested that there was no significant viral replication in mouse lung tissue. We further demonstrated that the inflammatory response to RSV challenge was minimal, as few leukocytes were recruited to the lungs (Fig. 1) .Taken together, our results suggest that infection of mice with PVM provides a superior model for the study of acute inflammatory bronchiolitis in response to pneumovirus infection in vivo. The advantages of this model include the following: clinical parameters -morbidity and mortalitythat can be measured clearly and specifically; clear evidence of viral replication in lung tissue, with incremental recoveries that, at peak, are in excess of 10 8 pfu/g in response to as few as 30 pfu in the inoculum; and a dramatic granulocytic response that is modulated at least in part by the proinflammatory chemokine MIP-1α and its receptor CCR1. Traditionally, analysis of gene expression through measurement of steady-state levels of individual mRNAs could be conducted only one gene at a time using northern blotting, dot blots, or quantitative reverse transcription-PCR. Differential display, serial analysis of gene expression, and total gene analysis offer great promise, because they are multiplex technologies that provide simultaneous analysis of multiple mRNAs isolated under conditions of interest via PCR amplification techniques. DNA hybridization arrays are theoretically the most efficient of the gene expression analysis techniques. Although many skeptics have described these genome-based approaches as expensive, nonhypothesis-driven 'fishing expeditions', we view them as broad-based screening techniques that will enable us to identify patterns of gene expression that can then be subjected to careful characterization and analysis.Differential display is a semiquantitative, reverse transcription-PCR-based technique that is used to compare mRNAs from two or more conditions of interest. Both increased and decreased expression of specific amplicons will be evident -an obvious advantage to this approach. Total RNA can be isolated from virus infected versus uninfected cells or mouse lungs both before and during infection, and differential display is performed using degenerate T11(XY) anchoring primers and random upstream oligomers, as described elsewhere [34, 36] . The resulting PCR products are separated by electrophoresis, and the gel is dried and exposed to film. An example of our results comparing cDNA amplicons from RNA extracted from RSV-infected epithelial cells daily for 4 days is shown in Fig. 2 . Differentially expressed bands are cut from the gel, eluted and reamplified using the same primers that generated the original signal, and northern blots generated from RNA extracted from pneumovirus-infected cells or tissue over time and probed with the differentially expressed amplicons serve to confirm differential expression of the identified sequence.The DNA sequences of the newly identified differentially expressed amplicons are compared with sequences present in the GenBank database. Viral sequences are expected to be upregulated over time and can be identified immediately, because the entire genomes of both PVM and RSV are present in GenBank. In cases in which the amplicon represents a newly discovered gene, potential openreading frames are compared with sequences that are present in the Swiss protein database; motifs that share homologies with known proteins represent important clues to the identity of the differentially expressed gene.With the help of differential display, we have identified and characterized several genes that are upregulated in RSV-infected respiratory epithelial cells. Two specific examples of genes that were found to be induced during RSV infection, and later characterized as playing independent roles in the pathophysiology of RSV infection, are the antiapoptosis gene IEX-1L [34] and the gene that encodes the cytoskeletal protein cytokeratin-17 [36] .Unlike DNA viruses, which are known to encode virus-specific antiapoptosis genes, RSV -an RNA virus with a small (approximately 15.2 kb) viral genome -was shown to alter host cell expression of the apoptosis inhibitor IEX-1L. After demonstrating that IEX-1L mRNA was present at sevenfold higher concentrations in RSV-infected respiratory epithelial cells when compared with uninfected cells, we concluded that this cellular response protected against TNF-α-induced programmed cell death during viral infection. Further efforts to determine which of the 11 RSV proteins participate in the trans-activation of the IEX-1L gene (either directly or indirectly) are ongoing.A second example of a gene that is specifically upregulated in RSV-infected respiratory epithelium, as identified by differential display, is that which encodes cytokeratin-17 [36] . Upon characterizing the molecular events that are important for cytokeratin-17 induction, we demonstrated a link to an NF-κB signaling pathway. Above, we discussed the importance of this transcription factor in the regulation of proinflammatory cytokine gene expression, and because of this involvement we were not surprised to discover its role in virus-induced cytokeratin-17 gene regulation. Perhaps the most interesting observation made during these experiments was the in situ localization of cytokeratin-17 protein to areas of cytopathic syncytia formation, suggesting a role for this cytoskeletal protein in their formation. Of note, we observed a dramatic decrease in RSV replication and in syncytia formation when we blocked cytokeratin-17 expression, suggesting that blocking syncytia formation, at least in part, impairs the direct cell-cell spread and productive replication of virus.Although there are several companies that market these systems and components, the cytokine gene macroarray systems recently developed by R&D Systems (Sigma Genosys ® ; Minneapolis, MN, USA) and Clontech (Atlas ® ; Palo Alto, CA, USA) represent some of the newer opportunities available that have a focus on gene products that are known to be involved in inflammation. These arrays consist of different cDNAs printed as PCR products onto charged nylon membranes. An example of our experience with the Sigma Genosys array is shown in Fig. 3 . For this example, total RNA was extracted from RSV-infected HEp-2 cells and uninfected controls at day 3 after infection. Three micrograms of total RNA was used in a cDNA synthesis reaction, using a proprietary mixture of 378 primer pairs and trace amounts of 32 P-radiolabeled dCTP.The resulting radiolabeled products were hybridized to the macroarrays overnight at 65°C, and then washed and exposed to film. The arrow highlights one of the most obviously upregulated sequences from this experiment, which was identified as the gene encoding human MIP-1α. The physiologic importance of MIP-1α upregulation during human RSV infection and during rodent PVM bronchiolitis has already been described.Microarrays can be differentiated from macroarrays in several ways. Among these differences, the microarray matrix is a glass or plastic slide, probes are labeled with fluorescent dye rather than via radioisotopes, and, most significantly, microarrays generally include a larger number and a higher density of imbedded sequences than do macroarrays. Although this may seem to be highly appealing at first, the massive amounts of data generated by microarray technology poses new challenges with respect to data normalization, management, and development of mathematical models to assist in data interpretation.The pneumoviruses RSV and PVM enter respiratory epithelial cells via a receptor-mediated event. During hostcell attachment and internalization, the target cell begins to alter its gene expression, which, among other events, involves the transcriptional upregulation of cytokine and chemokine genes. As RSV replication progresses, additional changes in cellular gene expression can be observed, including induction of the potent antiapoptosis gene IEX-1L and increased expression of the otherwise quiescent gene that encodes cytokeratin-17. What we know regarding the physiologic importance of these genes and their gene products has been described, but there is more to be learned. As the available technologies evolve, we can continue to capitalize on the use of Display of amplicons generated from RNA extracted from RSV-infected cells at daily intervals following infection (days 0-4) using a single anchoring primer, T11GC (downstream primer 8) and (A-H) eight random 10mers. Two differentially expressed sequences are highlighted by arrows (the black arrow shows an upregulated amplicon, and the white arrow highlights a downregulated amplicon). Several other differentially expressed signals are also seen.genomic approaches as large-scale screening tools to identify genes that play important roles in the pathophysiology of pneumovirus infection. These elegant and simple tools will provide us with the means for thorough and systematic exploration of gene expression, both in the estab- Cytokine macroarray probed with radiolabelled cDNA generated from total RNA extracted from epithelial cells 48 h after RSV infection (upper panel) or 48 h after exposure to conditioned medium (lower panel). Signal intensity of each gene under each condition is compared. The arrow highlights the signal for human MIP-1α present at 12-fold higher concentration in infected epithelial cells compared with the uninfected controls.\"],\n",
       " 'bioportal_anotations': []}"
      ]
     },
     "execution_count": 19,
     "metadata": {},
     "output_type": "execute_result"
    }
   ],
   "source": [
    "data_dict"
   ]
  },
  {
   "cell_type": "markdown",
   "metadata": {},
   "source": [
    "### Sintesis of the above things"
   ]
  },
  {
   "cell_type": "code",
   "execution_count": 20,
   "metadata": {},
   "outputs": [],
   "source": [
    "# walk over all branches of the file directory\n",
    "path_data = []\n",
    "for root, dirs, files in os.walk('kaggle/document_parses/'): \n",
    "    for file in files:\n",
    "        path_data.append(os.path.join(root,file))"
   ]
  },
  {
   "cell_type": "code",
   "execution_count": 21,
   "metadata": {},
   "outputs": [
    {
     "data": {
      "text/plain": [
       "97"
      ]
     },
     "execution_count": 21,
     "metadata": {},
     "output_type": "execute_result"
    }
   ],
   "source": [
    "len(path_data) # num of files"
   ]
  },
  {
   "cell_type": "code",
   "execution_count": 22,
   "metadata": {},
   "outputs": [],
   "source": [
    "#extract content of the all records. load into data_dictionari\n",
    "data_dict = {'paper_id':[], 'documents_texts':[], 'bioportal_anotations':[]}\n",
    "\n",
    "for i in range(len(path_data)):\n",
    "    \n",
    "    with open(path_data[i]) as json_data:\n",
    "        data = json.load(json_data)\n",
    "        \n",
    "# caching error!: because the records for pmc_json and pdf_json are not have the same field of metadata\n",
    "    \n",
    "    try:\n",
    "    \n",
    "        content_abstract = data['metadata']['title']\n",
    "\n",
    "        for i in range(len(data['abstract'])):\n",
    "            content_abstract += data['abstract'][i]['text']\n",
    "\n",
    "        content_body = ''\n",
    "        for i in range(len(data['body_text'])):\n",
    "            content_body += data['body_text'][i]['text']\n",
    "        \n",
    "        document_text = content_body + content_abstract\n",
    "            \n",
    "    except KeyError:\n",
    "        \n",
    "        content_body = data['metadata']['title']\n",
    "        for i in range(len(data['body_text'])):\n",
    "            content_body += data['body_text'][i]['text']\n",
    "            document_text = content_body\n",
    "            \n",
    "         \n",
    "    data_dict['paper_id'].append(data['paper_id'])\n",
    "    data_dict['documents_texts'].append(document_text)"
   ]
  },
  {
   "cell_type": "code",
   "execution_count": 23,
   "metadata": {},
   "outputs": [],
   "source": [
    "#if the ejecution of this line not raise anything, every its good \n",
    "assert len(path_data) == len(data_dict['paper_id']) and len(path_data) == len(data_dict['documents_texts']), 'wrong'"
   ]
  }
 ],
 "metadata": {
  "kernelspec": {
   "display_name": "Python 3",
   "language": "python",
   "name": "python3"
  },
  "language_info": {
   "codemirror_mode": {
    "name": "ipython",
    "version": 3
   },
   "file_extension": ".py",
   "mimetype": "text/x-python",
   "name": "python",
   "nbconvert_exporter": "python",
   "pygments_lexer": "ipython3",
   "version": "3.8.2"
  }
 },
 "nbformat": 4,
 "nbformat_minor": 4
}
